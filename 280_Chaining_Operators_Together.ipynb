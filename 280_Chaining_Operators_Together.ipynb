{
 "cells": [
  {
   "cell_type": "markdown",
   "metadata": {},
   "source": [
    "# Chaining Operators Together\n",
    "\n",
    "In Python you can chain comparison operators together. So instead of looking for every possibly variation of an answer, you can check for as many as you like and use a catch-all keyword (`else`) to work with anything you didn't catch. Examples below."
   ]
  },
  {
   "cell_type": "code",
   "execution_count": 8,
   "metadata": {},
   "outputs": [],
   "source": [
    "name = \"Henry\""
   ]
  },
  {
   "cell_type": "code",
   "execution_count": 9,
   "metadata": {},
   "outputs": [
    {
     "name": "stdout",
     "output_type": "stream",
     "text": [
      "Name is Henry\n"
     ]
    }
   ],
   "source": [
    "if name == \"Kalob\":\n",
    "    print(\"Name is Kalob\")\n",
    "\n",
    "if name == \"Henry\":\n",
    "    print(\"Name is Henry\")\n",
    "    \n",
    "if name == \"Zephyr\":\n",
    "    print(\"Name is Zephyr\")"
   ]
  },
  {
   "cell_type": "markdown",
   "metadata": {},
   "source": [
    "👆Above is how you check for 3 name variations. It's not wrong to do this, but it's open for problems. What if you wrote this in the above example: \n",
    "\n",
    "```python\n",
    "if name == \"Henry\":\n",
    "    print(\"Name is Henry\") \n",
    "    name = \"Zephyr\"\n",
    "```\n",
    "👆That will print `Name is Henry` and `Name is Zephyr` 😬"
   ]
  },
  {
   "cell_type": "code",
   "execution_count": 2,
   "metadata": {},
   "outputs": [
    {
     "name": "stdout",
     "output_type": "stream",
     "text": [
      "The name is Litterally anything else in the entire world\n"
     ]
    }
   ],
   "source": [
    "name = \"Litterally anything else in the entire world\"\n",
    "if name == \"Kalob\":\n",
    "    print(\"Kalob\")\n",
    "elif name == \"Henry\":\n",
    "    print(\"Meow\")\n",
    "elif name == \"Zephyr\":\n",
    "    print(\"Little meow\")\n",
    "else:\n",
    "    print(f\"The name is {name}\")"
   ]
  },
  {
   "cell_type": "markdown",
   "metadata": {},
   "source": [
    "👆This is much cleaner. It will only trigger the print statement once. And it will catch any answers we didn't think about in the `else` statement."
   ]
  },
  {
   "cell_type": "code",
   "execution_count": 16,
   "metadata": {},
   "outputs": [
    {
     "name": "stdout",
     "output_type": "stream",
     "text": [
      "Welcome to the bar, what are you drinking tonight?\n"
     ]
    }
   ],
   "source": [
    "age = 25\n",
    "if age < 21:\n",
    "    print(\"Nope, not allowed to have alcoholz\")\n",
    "else:\n",
    "    print(\"Welcome to the bar, what are you drinking tonight?\")"
   ]
  }
 ],
 "metadata": {
  "kernelspec": {
   "display_name": "Python 3",
   "language": "python",
   "name": "python3"
  },
  "language_info": {
   "codemirror_mode": {
    "name": "ipython",
    "version": 3
   },
   "file_extension": ".py",
   "mimetype": "text/x-python",
   "name": "python",
   "nbconvert_exporter": "python",
   "pygments_lexer": "ipython3",
   "version": "3.8.8"
  }
 },
 "nbformat": 4,
 "nbformat_minor": 4
}
