{
 "cells": [
  {
   "cell_type": "code",
   "execution_count": null,
   "metadata": {},
   "outputs": [],
   "source": [
    "https://github.com/marketplace/azure-cli-bot/edit\n",
    "https://docs.github.com/en/developers/github-marketplace/listing-an-app-on-github-marketplace/submitting-your-listing-for-publication\n",
    "https://docs.github.com/en/developers/github-marketplace/creating-apps-for-github-marketplace/requirements-for-listing-an-app\n",
    "https://docs.github.com/en/developers/github-marketplace/creating-apps-for-github-marketplace/customer-experience-best-practices-for-apps"
   ]
  }
 ],
 "metadata": {
  "language_info": {
   "name": "python"
  },
  "orig_nbformat": 4
 },
 "nbformat": 4,
 "nbformat_minor": 2
}
