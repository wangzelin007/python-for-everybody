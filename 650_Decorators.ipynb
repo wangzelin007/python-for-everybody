{
 "cells": [
  {
   "cell_type": "markdown",
   "metadata": {},
   "source": [
    "# Decorators\n",
    "\n",
    "Decorators are a way to add additional functionality to an existing function without having to re-write the existing function. It's the \"on/off\" switch for extra functionality. \n",
    "\n",
    "Behind the scenes, a decorator is just a function that nests the original function. "
   ]
  },
  {
   "cell_type": "code",
   "execution_count": 1,
   "metadata": {},
   "outputs": [],
   "source": [
    "def my_decorator(original_func):\n",
    "    \n",
    "    def wrapper():\n",
    "        print(\"Do a thing before\")\n",
    "        \n",
    "        original_func()\n",
    "        \n",
    "        print(\"Do a thing after\")\n",
    "        \n",
    "    return wrapper"
   ]
  },
  {
   "cell_type": "code",
   "execution_count": 2,
   "metadata": {},
   "outputs": [],
   "source": [
    "@my_decorator\n",
    "def greeting():\n",
    "    print(\"HELLO WORLD\")"
   ]
  },
  {
   "cell_type": "code",
   "execution_count": 3,
   "metadata": {},
   "outputs": [
    {
     "name": "stdout",
     "output_type": "stream",
     "text": [
      "Do a thing before\n",
      "HELLO WORLD\n",
      "Do a thing after\n"
     ]
    }
   ],
   "source": [
    "greeting() "
   ]
  },
  {
   "cell_type": "code",
   "execution_count": 4,
   "metadata": {},
   "outputs": [],
   "source": [
    "new_greeting = my_decorator(greeting)"
   ]
  },
  {
   "cell_type": "code",
   "execution_count": 5,
   "metadata": {},
   "outputs": [
    {
     "name": "stdout",
     "output_type": "stream",
     "text": [
      "Do a thing before\n",
      "Do a thing before\n",
      "HELLO WORLD\n",
      "Do a thing after\n",
      "Do a thing after\n"
     ]
    }
   ],
   "source": [
    "new_greeting()"
   ]
  },
  {
   "cell_type": "markdown",
   "metadata": {},
   "source": [
    "> **Caution:** This shows `Do a thing before` and `Do a thing after` twice because the decorator was applied twice: once with `@my_decorator` and once with `my_decorator(greeting)`. "
   ]
  },
  {
   "cell_type": "code",
   "execution_count": 16,
   "metadata": {},
   "outputs": [],
   "source": [
    "def add_stuff(original_function):\n",
    "    \n",
    "    def function_wrapper():\n",
    "        value = original_function()\n",
    "        print(f\"The original value was: {value}\")\n",
    "        \n",
    "        value = value**2\n",
    "        print(f\"The new value was: {value}\")\n",
    "        \n",
    "        return value\n",
    "    \n",
    "    return function_wrapper"
   ]
  },
  {
   "cell_type": "code",
   "execution_count": 26,
   "metadata": {},
   "outputs": [],
   "source": [
    "@add_stuff\n",
    "def pie():\n",
    "    return 3.14"
   ]
  },
  {
   "cell_type": "code",
   "execution_count": 27,
   "metadata": {},
   "outputs": [
    {
     "name": "stdout",
     "output_type": "stream",
     "text": [
      "The original value was: 3.14\n",
      "The new value was: 9.8596\n"
     ]
    }
   ],
   "source": [
    "pi_times_pi = pie()"
   ]
  },
  {
   "cell_type": "code",
   "execution_count": 28,
   "metadata": {},
   "outputs": [
    {
     "data": {
      "text/plain": [
       "9.8596"
      ]
     },
     "execution_count": 28,
     "metadata": {},
     "output_type": "execute_result"
    }
   ],
   "source": [
    "pi_times_pi"
   ]
  }
 ],
 "metadata": {
  "kernelspec": {
   "display_name": "Python 3",
   "language": "python",
   "name": "python3"
  },
  "language_info": {
   "codemirror_mode": {
    "name": "ipython",
    "version": 3
   },
   "file_extension": ".py",
   "mimetype": "text/x-python",
   "name": "python",
   "nbconvert_exporter": "python",
   "pygments_lexer": "ipython3",
   "version": "3.8.8"
  }
 },
 "nbformat": 4,
 "nbformat_minor": 4
}
