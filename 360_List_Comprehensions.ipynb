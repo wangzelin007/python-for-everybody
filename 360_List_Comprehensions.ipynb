{
 "cells": [
  {
   "cell_type": "markdown",
   "metadata": {},
   "source": [
    "# List Comprehensions\n",
    "\n",
    "List comprehensions are a strange thing in Python. It's a feature you don't see in many programming languages, but we use it quite often in Python. \n",
    "\n",
    "A \"list comprehension\" is a just a `for` loop in a single line of code.\n",
    "\n",
    "#### Creating a list using a `for` loop"
   ]
  },
  {
   "cell_type": "code",
   "execution_count": 1,
   "metadata": {},
   "outputs": [
    {
     "name": "stdout",
     "output_type": "stream",
     "text": [
      "['P', 'y', 't', 'h', 'o', 'n', ' ', 'f', 'o', 'r', ' ', 'E', 'v', 'e', 'r', 'y', 'b', 'o', 'd', 'y']\n"
     ]
    }
   ],
   "source": [
    "course = \"Python for Everybody\"\n",
    "mylist = []\n",
    "for letter in course:\n",
    "    mylist.append(letter)\n",
    "print(mylist)"
   ]
  },
  {
   "cell_type": "markdown",
   "metadata": {},
   "source": [
    "#### A basic list comprehension"
   ]
  },
  {
   "cell_type": "code",
   "execution_count": 2,
   "metadata": {},
   "outputs": [],
   "source": [
    "mylist2 = [letter for letter in course]"
   ]
  },
  {
   "cell_type": "markdown",
   "metadata": {},
   "source": [
    "> **Note:** The returned \"answer\" for each list item is on the left. It looks like: `[answer for answer in other_list]`"
   ]
  },
  {
   "cell_type": "code",
   "execution_count": 4,
   "metadata": {},
   "outputs": [
    {
     "name": "stdout",
     "output_type": "stream",
     "text": [
      "['P', 'y', 't', 'h', 'o', 'n', ' ', 'f', 'o', 'r', ' ', 'E', 'v', 'e', 'r', 'y', 'b', 'o', 'd', 'y']\n"
     ]
    }
   ],
   "source": [
    "print(mylist2)"
   ]
  },
  {
   "cell_type": "markdown",
   "metadata": {},
   "source": [
    "### Extracting vowels from a string"
   ]
  },
  {
   "cell_type": "code",
   "execution_count": 7,
   "metadata": {},
   "outputs": [],
   "source": [
    "vowels = [letter for letter in course if letter.lower() in 'aeiouy']"
   ]
  },
  {
   "cell_type": "markdown",
   "metadata": {},
   "source": [
    "> **Note:** `if` statements in a list comprehension are on the right. We're also using the `in` keyword to check if the current letter is in a string."
   ]
  },
  {
   "cell_type": "code",
   "execution_count": 8,
   "metadata": {},
   "outputs": [
    {
     "data": {
      "text/plain": [
       "['y', 'o', 'o', 'E', 'e', 'y', 'o', 'y']"
      ]
     },
     "execution_count": 8,
     "metadata": {},
     "output_type": "execute_result"
    }
   ],
   "source": [
    "vowels"
   ]
  },
  {
   "cell_type": "code",
   "execution_count": 13,
   "metadata": {},
   "outputs": [],
   "source": [
    "numbers = [num**num for num in range(0,9)]"
   ]
  },
  {
   "cell_type": "markdown",
   "metadata": {},
   "source": [
    "> **Note:** Notice above we're applying an exponent to the returned answer. This is useful for small list comprehensions, but if you need something much more complex consider breaking out your list comprehension into a proper `for` loop. The rule is: if it's hard to read, you're probably misusing the feature."
   ]
  },
  {
   "cell_type": "code",
   "execution_count": 14,
   "metadata": {},
   "outputs": [
    {
     "data": {
      "text/plain": [
       "[1, 1, 4, 27, 256, 3125, 46656, 823543, 16777216]"
      ]
     },
     "execution_count": 14,
     "metadata": {},
     "output_type": "execute_result"
    }
   ],
   "source": [
    "numbers"
   ]
  },
  {
   "cell_type": "markdown",
   "metadata": {},
   "source": [
    "### Converting Celcius to Fahrenheit\n",
    "\n",
    "#### Using a `for` loop."
   ]
  },
  {
   "cell_type": "code",
   "execution_count": 18,
   "metadata": {},
   "outputs": [
    {
     "name": "stdout",
     "output_type": "stream",
     "text": [
      "[-40.0, -4.0, 32.0, 50.0, 59.0, 77.0, 95.0, 122.0]\n"
     ]
    }
   ],
   "source": [
    "f = []\n",
    "c = [-40, -20, 0, 10, 15, 25, 35, 50]\n",
    "for temp in c:\n",
    "    temp = (temp*1.8) + 32\n",
    "    f.append(temp)\n",
    "print(f)"
   ]
  },
  {
   "cell_type": "markdown",
   "metadata": {},
   "source": [
    "#### Using a list comprehension"
   ]
  },
  {
   "cell_type": "code",
   "execution_count": 19,
   "metadata": {},
   "outputs": [
    {
     "name": "stdout",
     "output_type": "stream",
     "text": [
      "[-40.0, -4.0, 32.0, 50.0, 59.0, 77.0, 95.0, 122.0]\n"
     ]
    }
   ],
   "source": [
    "c = [-40, -20, 0, 10, 15, 25, 35, 50]\n",
    "f = [(temp*1.8) + 32 for temp in c]\n",
    "print(f) #  True"
   ]
  },
  {
   "cell_type": "code",
   "execution_count": 1,
   "metadata": {},
   "outputs": [
    {
     "name": "stdout",
     "output_type": "stream",
     "text": [
      "True\n"
     ]
    }
   ],
   "source": [
    "list1 = ['a', 'b', 'c']\n",
    "list2 = ['b', 'a', 'c']\n",
    "list1.sort()\n",
    "list2.sort()\n",
    "print(list1 == list2) #  True"
   ]
  },
  {
   "cell_type": "code",
   "execution_count": 2,
   "metadata": {},
   "outputs": [
    {
     "name": "stdout",
     "output_type": "stream",
     "text": [
      "True\n"
     ]
    }
   ],
   "source": [
    "l1=[1,2,3]\n",
    "l2=[2,1,3]\n",
    "import collections\n",
    "print(collections.Counter(list1)==collections.Counter(list2))"
   ]
  },
  {
   "cell_type": "code",
   "execution_count": 4,
   "metadata": {},
   "outputs": [
    {
     "name": "stdout",
     "output_type": "stream",
     "text": [
      "False\n"
     ]
    }
   ],
   "source": [
    "l1 = ['--help', '-h']\n",
    "l2 = ['--h', '--help']\n",
    "a = set(l1)\n",
    "b = set(l2)\n",
    "print(a == b) #  False"
   ]
  },
  {
   "cell_type": "code",
   "execution_count": 8,
   "metadata": {},
   "outputs": [
    {
     "name": "stdout",
     "output_type": "stream",
     "text": [
      "['--help', '-h'] | ['--name', '-n']\n",
      "[['--help', '-h'], ['--name', '-n']]\n",
      "True\n",
      "True\n"
     ]
    }
   ],
   "source": [
    "exclude_parameters = [['-h', '--help'], ['--name', '-n']]\n",
    "a = ['--help', '-h']\n",
    "b = ['-n', '--name']\n",
    "a.sort()\n",
    "b.sort()\n",
    "print(a, '|', b)\n",
    "[i.sort() for i in exclude_parameters]\n",
    "print(exclude_parameters)\n",
    "print(a in exclude_parameters)\n",
    "print(b in exclude_parameters)"
   ]
  }
 ],
 "metadata": {
  "kernelspec": {
   "display_name": "Python 3",
   "language": "python",
   "name": "python3"
  },
  "language_info": {
   "codemirror_mode": {
    "name": "ipython",
    "version": 3
   },
   "file_extension": ".py",
   "mimetype": "text/x-python",
   "name": "python",
   "nbconvert_exporter": "python",
   "pygments_lexer": "ipython3",
   "version": "3.9.7"
  }
 },
 "nbformat": 4,
 "nbformat_minor": 4
}
