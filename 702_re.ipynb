{
 "cells": [
  {
   "cell_type": "code",
   "execution_count": 4,
   "metadata": {},
   "outputs": [
    {
     "name": "stdout",
     "output_type": "stream",
     "text": [
      "True\n",
      "True\n"
     ]
    }
   ],
   "source": [
    "import re\n",
    "if re.findall(r'test_*.py', 'test_vm_commands.py'):\n",
    "    print(True)\n",
    "if re.findall(r'test_.*.py', 'test_vm_commands.py'):\n",
    "    print(True)\n",
    "if re.findall(r'test_.*.yaml', 'test_accelerated_network.yaml'):\n",
    "    print(True)"
   ]
  }
 ],
 "metadata": {
  "interpreter": {
   "hash": "cdbf6b7f2abf65c588af32bf7da37bac07b5bca7b1c25b137f97a6c929fc0dfd"
  },
  "kernelspec": {
   "display_name": "Python 3.9.7 64-bit ('notebook': conda)",
   "language": "python",
   "name": "python3"
  },
  "language_info": {
   "codemirror_mode": {
    "name": "ipython",
    "version": 3
   },
   "file_extension": ".py",
   "mimetype": "text/x-python",
   "name": "python",
   "nbconvert_exporter": "python",
   "pygments_lexer": "ipython3",
   "version": "3.9.7"
  },
  "orig_nbformat": 4
 },
 "nbformat": 4,
 "nbformat_minor": 2
}
