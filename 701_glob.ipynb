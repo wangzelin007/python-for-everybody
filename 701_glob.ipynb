{
 "cells": [
  {
   "cell_type": "code",
   "execution_count": null,
   "metadata": {},
   "outputs": [],
   "source": [
    "def find_files(root_paths, file_pattern):\n",
    "    \"\"\" Returns the paths to all files that match a given pattern.\n",
    "\n",
    "    :returns: Paths ([str]) to files matching the given pattern.\n",
    "    \"\"\"\n",
    "    if isinstance(root_paths, str):\n",
    "        root_paths = [root_paths]\n",
    "    paths = []\n",
    "    for root_path in root_paths:\n",
    "        for path, _, _ in os.walk(root_path): #  获取所有文件\n",
    "            pattern = os.path.join(path, file_pattern)\n",
    "            paths.extend(glob(pattern)) #  \n",
    "    return paths\n",
    "files = find_files(test_dir, '*.py')\n"
   ]
  }
 ],
 "metadata": {
  "language_info": {
   "name": "python"
  },
  "orig_nbformat": 4
 },
 "nbformat": 4,
 "nbformat_minor": 2
}
