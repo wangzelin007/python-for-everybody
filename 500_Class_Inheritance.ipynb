{
 "cells": [
  {
   "cell_type": "markdown",
   "metadata": {},
   "source": [
    "# Class Inheritance\n",
    "\n",
    "In Python you can create a Class with pre-defined methods and attributes. And then you can \"subclass\" it with class inheritance. This lets you extend functionality while re-using the base class so you don't need to write things twice."
   ]
  },
  {
   "cell_type": "code",
   "execution_count": 1,
   "metadata": {},
   "outputs": [],
   "source": [
    "class Animal:\n",
    "    \n",
    "    def __init__(self, name, weight):\n",
    "        self.name = name \n",
    "        self.weight = weight \n",
    "        \n",
    "    def speak(self):\n",
    "        print(\"What does the animal say?\")"
   ]
  },
  {
   "cell_type": "code",
   "execution_count": 9,
   "metadata": {},
   "outputs": [],
   "source": [
    "class Cat(Animal):\n",
    "    \n",
    "    def speak(self):\n",
    "        print(\"Meooowwww\")"
   ]
  },
  {
   "cell_type": "markdown",
   "metadata": {},
   "source": [
    "> **Note:** `Cat()` is a subclass of `Animal()`. We simply passed in the class name of Animal as a parameter into the entire Cat class. Now we have access to `name`, `weight`, and `speak()` and we can overwrite these if we wanted to. "
   ]
  },
  {
   "cell_type": "code",
   "execution_count": 10,
   "metadata": {},
   "outputs": [],
   "source": [
    "henry = Cat(\"Henry\", \"9 lbs\")"
   ]
  },
  {
   "cell_type": "code",
   "execution_count": 11,
   "metadata": {},
   "outputs": [
    {
     "name": "stdout",
     "output_type": "stream",
     "text": [
      "Meooowwww\n"
     ]
    }
   ],
   "source": [
    "henry.speak() "
   ]
  },
  {
   "cell_type": "code",
   "execution_count": 12,
   "metadata": {},
   "outputs": [],
   "source": [
    "animal = Animal(\"Ani\", \"100lbs\")"
   ]
  },
  {
   "cell_type": "code",
   "execution_count": 13,
   "metadata": {},
   "outputs": [
    {
     "name": "stdout",
     "output_type": "stream",
     "text": [
      "What does the animal say?\n"
     ]
    }
   ],
   "source": [
    "animal.speak() "
   ]
  },
  {
   "cell_type": "code",
   "execution_count": 14,
   "metadata": {},
   "outputs": [],
   "source": [
    "class Dog(Animal):\n",
    "    \n",
    "    def speak(self):\n",
    "        print(\"Woof woof\")"
   ]
  },
  {
   "cell_type": "markdown",
   "metadata": {},
   "source": [
    "> **Note:** By creating a generic Animal class we can use that code for both Cat and Dog subclasses. Now we're really keping our code DRY (don't repeat yourself). "
   ]
  },
  {
   "cell_type": "code",
   "execution_count": 15,
   "metadata": {},
   "outputs": [],
   "source": [
    "veto = Dog(\"Veto\", 120)"
   ]
  },
  {
   "cell_type": "code",
   "execution_count": 16,
   "metadata": {},
   "outputs": [
    {
     "name": "stdout",
     "output_type": "stream",
     "text": [
      "Woof woof\n"
     ]
    }
   ],
   "source": [
    "veto.speak() "
   ]
  }
 ],
 "metadata": {
  "kernelspec": {
   "display_name": "Python 3",
   "language": "python",
   "name": "python3"
  },
  "language_info": {
   "codemirror_mode": {
    "name": "ipython",
    "version": 3
   },
   "file_extension": ".py",
   "mimetype": "text/x-python",
   "name": "python",
   "nbconvert_exporter": "python",
   "pygments_lexer": "ipython3",
   "version": "3.8.8"
  }
 },
 "nbformat": 4,
 "nbformat_minor": 4
}
