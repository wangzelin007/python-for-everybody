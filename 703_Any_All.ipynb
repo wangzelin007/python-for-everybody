{
 "cells": [
  {
   "cell_type": "markdown",
   "metadata": {},
   "source": [
    "All 接受一个列表, 必须同时不为 None, 返回 True, 否则返回 False。\n",
    "Any 接受一个列表, 列表里面只要有一个元素不为None 返回True, 全部为None, 返回False。"
   ]
  },
  {
   "cell_type": "code",
   "execution_count": 5,
   "metadata": {},
   "outputs": [
    {
     "name": "stdout",
     "output_type": "stream",
     "text": [
      "False\n",
      "True\n",
      "True\n",
      "True\n",
      "False\n",
      "False\n"
     ]
    }
   ],
   "source": [
    "A = None\n",
    "B = 'b'\n",
    "print(all([A, B])) # False\n",
    "print(any([A, B])) # True\n",
    "A = 'a'\n",
    "B = 'b'\n",
    "print(all([A, B])) # True\n",
    "print(any([A, B])) # True\n",
    "A = None\n",
    "B = None\n",
    "print(all([A, B])) # False\n",
    "print(any([A, B])) # False"
   ]
  }
 ],
 "metadata": {
  "interpreter": {
   "hash": "28085907f29ae3142956a4d47369c9afe95d3b5f934ac85b88d8ae9d3dfcb38e"
  },
  "kernelspec": {
   "display_name": "Python 3.9.7 64-bit ('notebook-env': conda)",
   "language": "python",
   "name": "python3"
  },
  "language_info": {
   "codemirror_mode": {
    "name": "ipython",
    "version": 3
   },
   "file_extension": ".py",
   "mimetype": "text/x-python",
   "name": "python",
   "nbconvert_exporter": "python",
   "pygments_lexer": "ipython3",
   "version": "3.9.7"
  },
  "orig_nbformat": 4
 },
 "nbformat": 4,
 "nbformat_minor": 2
}
