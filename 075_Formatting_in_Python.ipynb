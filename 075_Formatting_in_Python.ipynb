{
 "cells": [
  {
   "cell_type": "markdown",
   "metadata": {},
   "source": [
    "# Python Formatting\n",
    "\n",
    "Python is unlike other programming languages. We don't use a lot of `()` or `{}` to write our \"syntax\" (the way the code looks). Instead we rely a lot more on indentation. \n",
    "\n",
    "Python uses indentation to determine where code should \"live\". Below are some examples of indentation.\n",
    "\n",
    "Always stick with spaces or tabs, and try to keep the number of spaces and tabs the same across all your files. "
   ]
  },
  {
   "cell_type": "code",
   "execution_count": 2,
   "metadata": {},
   "outputs": [],
   "source": [
    "course = \"Python for Everybody\""
   ]
  },
  {
   "cell_type": "code",
   "execution_count": 5,
   "metadata": {},
   "outputs": [
    {
     "name": "stdout",
     "output_type": "stream",
     "text": [
      "Hihihihihihih\n"
     ]
    }
   ],
   "source": [
    "def name():\n",
    "    welcome = \"Hello world\"\n",
    "    \n",
    "    def thing():\n",
    "        print(\"hellohellohellohellohellohello\")\n",
    "    \n",
    "                        \n",
    "print(\"Hihihihihihih\")"
   ]
  },
  {
   "cell_type": "code",
   "execution_count": 7,
   "metadata": {},
   "outputs": [
    {
     "name": "stdout",
     "output_type": "stream",
     "text": [
      "Hello\n"
     ]
    }
   ],
   "source": [
    "if True:\n",
    "    pass \n",
    "\n",
    "print(\"Hello\")"
   ]
  }
 ],
 "metadata": {
  "kernelspec": {
   "display_name": "Python 3",
   "language": "python",
   "name": "python3"
  },
  "language_info": {
   "codemirror_mode": {
    "name": "ipython",
    "version": 3
   },
   "file_extension": ".py",
   "mimetype": "text/x-python",
   "name": "python",
   "nbconvert_exporter": "python",
   "pygments_lexer": "ipython3",
   "version": "3.8.8"
  }
 },
 "nbformat": 4,
 "nbformat_minor": 4
}
