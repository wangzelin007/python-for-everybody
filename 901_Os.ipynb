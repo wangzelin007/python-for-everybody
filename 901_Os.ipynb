{
 "cells": [
  {
   "cell_type": "markdown",
   "metadata": {},
   "source": [
    "https://www.runoob.com/python/python-os-path.html\n",
    "os.path.sep:路径分隔符\n",
    "os.path.altsep: 根目录\n",
    "os.path.curdir:当前目录\n",
    "os.path.pardir：父目录\n",
    "os.path.abspath($path)：绝对路径\n",
    "os.path.join()\n",
    "os.path.split(path): 把path分为目录和文件两个部分，以列表返回\n",
    "os.path.basename(path): 返回文件名\n",
    "os.path.dirname(path): 返回文件路径"
   ]
  },
  {
   "cell_type": "code",
   "execution_count": 3,
   "metadata": {},
   "outputs": [
    {
     "name": "stdout",
     "output_type": "stream",
     "text": [
      "\\\n",
      "/\n",
      ".\n",
      "..\n",
      "c:\\Code\\python-for-everybody\n",
      "a\\b\\c\n",
      "('a/b', 'c')\n"
     ]
    }
   ],
   "source": [
    "import os\n",
    "print(os.path.sep) # \\\n",
    "print(os.path.altsep) # /\n",
    "print(os.path.curdir) # .\n",
    "print(os.path.pardir) # ..\n",
    "print(os.path.abspath(os.path.curdir)) # c:\\Code\\python-for-everybody\n",
    "print(os.path.join('a', 'b', 'c')) # a\\b\\c\n",
    "print(os.path.split('a/b/c')) # ('a/b', 'c')\n"
   ]
  }
 ],
 "metadata": {
  "kernelspec": {
   "display_name": "Python 3.9.5 64-bit",
   "language": "python",
   "name": "python3"
  },
  "language_info": {
   "codemirror_mode": {
    "name": "ipython",
    "version": 3
   },
   "file_extension": ".py",
   "mimetype": "text/x-python",
   "name": "python",
   "nbconvert_exporter": "python",
   "pygments_lexer": "ipython3",
   "version": "3.9.5"
  },
  "orig_nbformat": 4,
  "vscode": {
   "interpreter": {
    "hash": "0a3d8e5d6326ff0dbf5c01174c3a39a61269a9dfdd40df392e18666238021bc2"
   }
  }
 },
 "nbformat": 4,
 "nbformat_minor": 2
}
