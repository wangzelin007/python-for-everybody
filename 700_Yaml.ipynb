{
 "cells": [
  {
   "cell_type": "code",
   "execution_count": 38,
   "metadata": {},
   "outputs": [
    {
     "name": "stdout",
     "output_type": "stream",
     "text": [
      "['group create ', 'group deployment create ', 'group deployment create ', 'group deployment create ', 'group deployment create ', 'group deployment create ', 'group delete ']\n"
     ]
    }
   ],
   "source": [
    "all_tested_commands = []\n",
    "# pip install PyYAML\n",
    "import yaml\n",
    "with open('./test_lab_environment_mgmt.yaml', 'r') as f:\n",
    "    file_data = f.read()\n",
    "    # print(file_data)\n",
    "    records = yaml.load(file_data, Loader=yaml.Loader) or {}\n",
    "    # records = yaml.safe_load(file_data) or {}\n",
    "    # print(records)\n",
    "    for record in records['interactions']:\n",
    "        # ['acr agentpool create']\n",
    "        command = record['request']['headers'].get('CommandName', [''])\n",
    "        # ['-n -r']\n",
    "        argument = record['request']['headers'].get('ParameterSetName', [''])\n",
    "        cmd = command[0] + ' ' + argument[0]\n",
    "        all_tested_commands.append(cmd)\n",
    "print(all_tested_commands)"
   ]
  }
 ],
 "metadata": {
  "interpreter": {
   "hash": "28085907f29ae3142956a4d47369c9afe95d3b5f934ac85b88d8ae9d3dfcb38e"
  },
  "kernelspec": {
   "display_name": "Python 3.9.7 64-bit ('notebook-env': conda)",
   "language": "python",
   "name": "python3"
  },
  "language_info": {
   "codemirror_mode": {
    "name": "ipython",
    "version": 3
   },
   "file_extension": ".py",
   "mimetype": "text/x-python",
   "name": "python",
   "nbconvert_exporter": "python",
   "pygments_lexer": "ipython3",
   "version": "3.9.7"
  },
  "orig_nbformat": 4
 },
 "nbformat": 4,
 "nbformat_minor": 2
}
