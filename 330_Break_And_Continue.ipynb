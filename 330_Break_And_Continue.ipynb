{
 "cells": [
  {
   "cell_type": "markdown",
   "metadata": {},
   "source": [
    "# Break and Continue\n",
    "\n",
    "`continue` and `break` are two keywords that let you stop a loop or skip to the next loop cycle. \n",
    "\n",
    "**Break**: Will stop the loop. Nothing below it will run, and the loop is exited. \n",
    "\n",
    "**Continue:** Will skip to the next loop iteration (if there is one). Nothing below it will run."
   ]
  },
  {
   "cell_type": "markdown",
   "metadata": {},
   "source": [
    "#### Of the color is \"Orange\", skip the loop cycle"
   ]
  },
  {
   "cell_type": "code",
   "execution_count": 1,
   "metadata": {},
   "outputs": [],
   "source": [
    "colors = (\"Blue\", \"Green\", \"Yellow\", \"Orange\", \"Red\", \"Purple\",)"
   ]
  },
  {
   "cell_type": "code",
   "execution_count": 2,
   "metadata": {},
   "outputs": [
    {
     "data": {
      "text/plain": [
       "('Blue', 'Green', 'Yellow', 'Orange', 'Red', 'Purple')"
      ]
     },
     "execution_count": 2,
     "metadata": {},
     "output_type": "execute_result"
    }
   ],
   "source": [
    "colors"
   ]
  },
  {
   "cell_type": "code",
   "execution_count": 4,
   "metadata": {},
   "outputs": [
    {
     "name": "stdout",
     "output_type": "stream",
     "text": [
      "Starting the loop..\n",
      "Blue\n",
      "Green\n",
      "Yellow\n",
      "Red\n",
      "Purple\n",
      "Loop has ended\n"
     ]
    }
   ],
   "source": [
    "print(\"Starting the loop..\")\n",
    "for color in colors:\n",
    "    if color == 'Orange':\n",
    "        continue \n",
    "    print(color)\n",
    "print(\"Loop has ended\")"
   ]
  },
  {
   "cell_type": "markdown",
   "metadata": {},
   "source": [
    "#### If the color is \"Orange\", end the loop."
   ]
  },
  {
   "cell_type": "code",
   "execution_count": 5,
   "metadata": {},
   "outputs": [
    {
     "name": "stdout",
     "output_type": "stream",
     "text": [
      "Starting the loop..\n",
      "Blue\n",
      "Green\n",
      "Yellow\n",
      "Loop has ended\n"
     ]
    }
   ],
   "source": [
    "print(\"Starting the loop..\")\n",
    "for color in colors:\n",
    "    if color == 'Orange':\n",
    "        break \n",
    "    print(color)\n",
    "print(\"Loop has ended\")"
   ]
  },
  {
   "cell_type": "markdown",
   "metadata": {},
   "source": [
    "## Guessing game using `while`, `break`, and `input()`"
   ]
  },
  {
   "cell_type": "code",
   "execution_count": 6,
   "metadata": {},
   "outputs": [
    {
     "name": "stdout",
     "output_type": "stream",
     "text": [
      "Guess my name: zephyr\n",
      "That was the wrong name... try again!\n",
      "Guess my name: kalob\n",
      "That was the wrong name... try again!\n",
      "Guess my name: jacob\n",
      "That was the wrong name... try again!\n",
      "Guess my name: henry\n",
      "YOU WIN\n"
     ]
    }
   ],
   "source": [
    "while True:\n",
    "    name = input(\"Guess my name: \")\n",
    "    if name.lower() == \"henry\":\n",
    "        print(\"YOU WIN\")\n",
    "        break\n",
    "    \n",
    "    print(\"That was the wrong name... try again!\")\n",
    "        "
   ]
  }
 ],
 "metadata": {
  "kernelspec": {
   "display_name": "Python 3",
   "language": "python",
   "name": "python3"
  },
  "language_info": {
   "codemirror_mode": {
    "name": "ipython",
    "version": 3
   },
   "file_extension": ".py",
   "mimetype": "text/x-python",
   "name": "python",
   "nbconvert_exporter": "python",
   "pygments_lexer": "ipython3",
   "version": "3.8.8"
  }
 },
 "nbformat": 4,
 "nbformat_minor": 4
}
