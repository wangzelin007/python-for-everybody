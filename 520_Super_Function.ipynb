{
 "cells": [
  {
   "cell_type": "markdown",
   "metadata": {},
   "source": [
    "# The Super Function\n",
    "\n",
    "In Python we can subclass classes and interfaces very easily. But sometimes a parent class has some functionality we want to continue using.\n",
    "\n",
    "The `super()` function will bubble up to the base class and you can execute a method from the base class. "
   ]
  },
  {
   "cell_type": "code",
   "execution_count": 1,
   "metadata": {},
   "outputs": [],
   "source": [
    "class One:\n",
    "    def speak(self):\n",
    "        print(\"This is #1\")\n",
    "        \n",
    "    def total_tacos(self):\n",
    "        return 5"
   ]
  },
  {
   "cell_type": "code",
   "execution_count": 2,
   "metadata": {},
   "outputs": [],
   "source": [
    "class Two(One):\n",
    "    def speak(self):\n",
    "        super().speak()\n",
    "        print(\"This is #2\")\n",
    "        \n",
    "    def total_tacos(self):\n",
    "        total_original_tacos = super().total_tacos()  # Will execute One.total_tacos() and return \"5\".\n",
    "        print(\"Original tacos: \", total_original_tacos)\n",
    "        \n",
    "        new_tacos = total_original_tacos + 3\n",
    "        print(\"New total tacos:\", new_tacos)\n",
    "        \n",
    "        return new_tacos"
   ]
  },
  {
   "cell_type": "code",
   "execution_count": 3,
   "metadata": {},
   "outputs": [
    {
     "name": "stdout",
     "output_type": "stream",
     "text": [
      "This is #1\n",
      "This is #2\n",
      "Original tacos:  5\n",
      "New total tacos: 8\n"
     ]
    },
    {
     "data": {
      "text/plain": [
       "8"
      ]
     },
     "execution_count": 3,
     "metadata": {},
     "output_type": "execute_result"
    }
   ],
   "source": [
    "two = Two()\n",
    "two.speak()\n",
    "two.total_tacos() "
   ]
  },
  {
   "cell_type": "code",
   "execution_count": null,
   "metadata": {},
   "outputs": [],
   "source": []
  }
 ],
 "metadata": {
  "kernelspec": {
   "display_name": "Python 3",
   "language": "python",
   "name": "python3"
  },
  "language_info": {
   "codemirror_mode": {
    "name": "ipython",
    "version": 3
   },
   "file_extension": ".py",
   "mimetype": "text/x-python",
   "name": "python",
   "nbconvert_exporter": "python",
   "pygments_lexer": "ipython3",
   "version": "3.8.8"
  }
 },
 "nbformat": 4,
 "nbformat_minor": 4
}
