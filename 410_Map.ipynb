{
 "cells": [
  {
   "cell_type": "markdown",
   "metadata": {},
   "source": [
    "# Map\n",
    "\n",
    "Mapping lets you run a function over an iterable (like a list). So instead of writing a `for` loop and manually executing a function, we can map each item to a function and let the function return the answer for us. \n",
    "\n",
    "It's basically just a shortcut, but it's helpful to write less code. Less code means less maintenance and less bugs. "
   ]
  },
  {
   "cell_type": "markdown",
   "metadata": {},
   "source": [
    "#### How we currently execute logic in a `for` loop"
   ]
  },
  {
   "cell_type": "code",
   "execution_count": 1,
   "metadata": {},
   "outputs": [],
   "source": [
    "nums = [1, -5, 7.25, 99]"
   ]
  },
  {
   "cell_type": "code",
   "execution_count": 2,
   "metadata": {
    "scrolled": true
   },
   "outputs": [
    {
     "name": "stdout",
     "output_type": "stream",
     "text": [
      "4\n",
      "-20\n",
      "29.0\n",
      "396\n"
     ]
    }
   ],
   "source": [
    "for num in nums:\n",
    "    if num > 2:\n",
    "        pass \n",
    "    else:\n",
    "        pass \n",
    "    \n",
    "    return num**2\n"
   ]
  },
  {
   "cell_type": "markdown",
   "metadata": {},
   "source": [
    "#### We could also use a list comprehension "
   ]
  },
  {
   "cell_type": "code",
   "execution_count": 3,
   "metadata": {},
   "outputs": [],
   "source": [
    "new_nums = [num*4 for num in nums]"
   ]
  },
  {
   "cell_type": "code",
   "execution_count": 5,
   "metadata": {},
   "outputs": [
    {
     "data": {
      "text/plain": [
       "[4, -20, 29.0, 396]"
      ]
     },
     "execution_count": 5,
     "metadata": {},
     "output_type": "execute_result"
    }
   ],
   "source": [
    "new_nums"
   ]
  },
  {
   "cell_type": "markdown",
   "metadata": {},
   "source": [
    "### Using `map()`"
   ]
  },
  {
   "cell_type": "code",
   "execution_count": 6,
   "metadata": {},
   "outputs": [],
   "source": [
    "def new_func(num):\n",
    "    if num > 5:\n",
    "        num = num + 4\n",
    "    else:\n",
    "        num = num - 4 \n",
    "        \n",
    "    return num**2"
   ]
  },
  {
   "cell_type": "code",
   "execution_count": 7,
   "metadata": {},
   "outputs": [
    {
     "data": {
      "text/plain": [
       "[1, -5, 7.25, 99]"
      ]
     },
     "execution_count": 7,
     "metadata": {},
     "output_type": "execute_result"
    }
   ],
   "source": [
    "nums"
   ]
  },
  {
   "cell_type": "code",
   "execution_count": 12,
   "metadata": {},
   "outputs": [
    {
     "name": "stdout",
     "output_type": "stream",
     "text": [
      "9\n",
      "81\n",
      "126.5625\n",
      "10609\n"
     ]
    }
   ],
   "source": [
    "for new_num in map(new_func, nums):\n",
    "    print(new_num)"
   ]
  },
  {
   "cell_type": "code",
   "execution_count": 13,
   "metadata": {},
   "outputs": [
    {
     "data": {
      "text/plain": [
       "3600"
      ]
     },
     "execution_count": 13,
     "metadata": {},
     "output_type": "execute_result"
    }
   ],
   "source": [
    "new_func(56)"
   ]
  },
  {
   "cell_type": "code",
   "execution_count": 17,
   "metadata": {},
   "outputs": [],
   "source": [
    "m = list(map(new_func, nums))"
   ]
  },
  {
   "cell_type": "markdown",
   "metadata": {},
   "source": [
    "> **Note:** We've type casted the returned value from `map()` to a `list` so we can see all answers at once. This is helpful when working with generators (which we'll cover in the advanced lesson called Generators)."
   ]
  },
  {
   "cell_type": "code",
   "execution_count": 18,
   "metadata": {},
   "outputs": [
    {
     "data": {
      "text/plain": [
       "[9, 81, 126.5625, 10609]"
      ]
     },
     "execution_count": 18,
     "metadata": {},
     "output_type": "execute_result"
    }
   ],
   "source": [
    "m"
   ]
  },
  {
   "cell_type": "markdown",
   "metadata": {},
   "source": [
    "### Mapping names to descriptions"
   ]
  },
  {
   "cell_type": "code",
   "execution_count": 21,
   "metadata": {},
   "outputs": [],
   "source": [
    "names = [\"Henry\", \"Zephyr\", \"Ezra\", \"Ted\"]\n",
    "def handle_names(name):\n",
    "    name = name.lower()\n",
    "    if name == \"henry\":\n",
    "        return \"Black Kitty\"\n",
    "    elif name == \"zephyr\":\n",
    "        return \"Gray Kitty\"\n",
    "    elif name == \"ezra\":\n",
    "        return \"Not a kitty I actually have\"\n",
    "    elif name == \"ted\":\n",
    "        return \"Ted is a horse\"\n",
    "    else:\n",
    "        return \"Not Handled\""
   ]
  },
  {
   "cell_type": "code",
   "execution_count": 24,
   "metadata": {},
   "outputs": [
    {
     "name": "stdout",
     "output_type": "stream",
     "text": [
      "['Black Kitty', 'Gray Kitty', 'Not a kitty I actually have', 'Ted is a horse']\n"
     ]
    }
   ],
   "source": [
    "descriptions = []\n",
    "for description in map(handle_names, names):\n",
    "    descriptions.append(description)\n",
    "print(descriptions)"
   ]
  },
  {
   "cell_type": "code",
   "execution_count": 25,
   "metadata": {},
   "outputs": [],
   "source": [
    "description = list(map(handle_names, names))"
   ]
  },
  {
   "cell_type": "code",
   "execution_count": 26,
   "metadata": {},
   "outputs": [
    {
     "data": {
      "text/plain": [
       "['Black Kitty', 'Gray Kitty', 'Not a kitty I actually have', 'Ted is a horse']"
      ]
     },
     "execution_count": 26,
     "metadata": {},
     "output_type": "execute_result"
    }
   ],
   "source": [
    "description"
   ]
  },
  {
   "cell_type": "code",
   "execution_count": 27,
   "metadata": {},
   "outputs": [],
   "source": [
    "descriptions = []\n",
    "for name in names:\n",
    "    desc = handle_names(name)\n",
    "    descriptions.append(desc)"
   ]
  },
  {
   "cell_type": "markdown",
   "metadata": {},
   "source": [
    "> **Note:** This is the longer way to map names to a description using the `handle_names()` function we created earlier. It's not too much more code, but Python gives us the ability to do this in less code, so we might as well take advantage of that."
   ]
  },
  {
   "cell_type": "code",
   "execution_count": 28,
   "metadata": {},
   "outputs": [
    {
     "name": "stdout",
     "output_type": "stream",
     "text": [
      "['Black Kitty', 'Gray Kitty', 'Not a kitty I actually have', 'Ted is a horse']\n"
     ]
    }
   ],
   "source": [
    "print(descriptions)"
   ]
  }
 ],
 "metadata": {
  "kernelspec": {
   "display_name": "Python 3",
   "language": "python",
   "name": "python3"
  },
  "language_info": {
   "codemirror_mode": {
    "name": "ipython",
    "version": 3
   },
   "file_extension": ".py",
   "mimetype": "text/x-python",
   "name": "python",
   "nbconvert_exporter": "python",
   "pygments_lexer": "ipython3",
   "version": "3.8.8"
  }
 },
 "nbformat": 4,
 "nbformat_minor": 4
}
