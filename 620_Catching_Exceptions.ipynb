{
 "cells": [
  {
   "cell_type": "markdown",
   "metadata": {},
   "source": [
    "# Catching Exceptions\n",
    "\n",
    "To \"catch\" an error is to understand that an error was raised and we can handle that error appropriately. The idea is to be smarter than the data and figure out what could go wrong... and solve it before we see a problem in the program."
   ]
  },
  {
   "cell_type": "code",
   "execution_count": 1,
   "metadata": {},
   "outputs": [
    {
     "name": "stdout",
     "output_type": "stream",
     "text": [
      "Missing key: 'fav_food'\n"
     ]
    }
   ],
   "source": [
    "person = {\n",
    "    'course': 'Python for Everybody',\n",
    "}\n",
    "\n",
    "try:\n",
    "#     1/0\n",
    "    print(person['fav_food'])\n",
    "except ZeroDivisionError:\n",
    "    print(\"Cannot divide by zero\")\n",
    "except KeyError as e:\n",
    "    print(\"Missing key:\", e)\n",
    "except Exception as e:\n",
    "    print(type(e))\n",
    "    print(e)"
   ]
  },
  {
   "cell_type": "code",
   "execution_count": 2,
   "metadata": {},
   "outputs": [
    {
     "name": "stdout",
     "output_type": "stream",
     "text": [
      "Enter the first number: 75\n",
      "Enter the second number: 25\n",
      "3.0\n",
      "Huzzah success! We divided 75.0 and 25.0\n",
      "This will always run no matter what\n"
     ]
    }
   ],
   "source": [
    "num1 = input(\"Enter the first number: \")\n",
    "num2 = input(\"Enter the second number: \")    \n",
    "    \n",
    "try:\n",
    "    num1 = float(num1)\n",
    "    num2 = float(num2)  \n",
    "    div = num1 / num2 \n",
    "    print(div)\n",
    "except ValueError:\n",
    "    print(\"There was a value error WOOPS\")\n",
    "except ZeroDivisionError:\n",
    "    print(\"Cannot divide by zero\")\n",
    "except NameError as e:\n",
    "    print(\"There was an undefined variable somewhere.\", e)\n",
    "except Exception as e:\n",
    "    print(type(e))\n",
    "    print(e)\n",
    "else:\n",
    "    print(f\"Huzzah success! We divided {num1} and {num2}\")\n",
    "finally:\n",
    "    print(\"This will always run no matter what\")"
   ]
  },
  {
   "cell_type": "code",
   "execution_count": 3,
   "metadata": {},
   "outputs": [
    {
     "name": "stdout",
     "output_type": "stream",
     "text": [
      "Make a successful division\n",
      "10\n",
      "0\n",
      "<class 'ZeroDivisionError'>\n",
      "float division by zero\n",
      "Nope. Try again.\n",
      "Make a successful division\n",
      "10\n",
      "1\n"
     ]
    }
   ],
   "source": [
    "while True:\n",
    "    print(\"Make a successful division\")\n",
    "    num1 = input()\n",
    "    num2 = input()\n",
    "    try:\n",
    "        num3 = float(num1)/float(num2)\n",
    "        break\n",
    "    except Exception as e:\n",
    "        print(type(e))\n",
    "        print(e)\n",
    "        print(\"Nope. Try again.\")\n",
    "    "
   ]
  }
 ],
 "metadata": {
  "kernelspec": {
   "display_name": "Python 3",
   "language": "python",
   "name": "python3"
  },
  "language_info": {
   "codemirror_mode": {
    "name": "ipython",
    "version": 3
   },
   "file_extension": ".py",
   "mimetype": "text/x-python",
   "name": "python",
   "nbconvert_exporter": "python",
   "pygments_lexer": "ipython3",
   "version": "3.8.8"
  }
 },
 "nbformat": 4,
 "nbformat_minor": 4
}
