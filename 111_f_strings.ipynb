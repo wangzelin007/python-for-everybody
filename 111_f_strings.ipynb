{
 "cells": [
  {
   "cell_type": "code",
   "execution_count": 4,
   "metadata": {},
   "outputs": [
    {
     "name": "stdout",
     "output_type": "stream",
     "text": [
      "Leave Request created successfully. Approvers sent the request for approval: abc\n",
      "Leave Request created successfully. Approvers sent the request for approval: abc\n",
      "<class 'str'>\n"
     ]
    }
   ],
   "source": [
    "leave_approver_list = 'abc'\n",
    "msg = (\n",
    "         f'Leave Request created successfully. '\n",
    "         f'Approvers sent the request for approval: {leave_approver_list}'\n",
    ")\n",
    "msg2 = msg\n",
    "print(msg)\n",
    "print(msg2)\n",
    "print(type(msg))"
   ]
  },
  {
   "cell_type": "markdown",
   "metadata": {},
   "source": [
    "长 f-string 换行"
   ]
  },
  {
   "cell_type": "code",
   "execution_count": 31,
   "metadata": {},
   "outputs": [
    {
     "name": "stdout",
     "output_type": "stream",
     "text": [
      "33.333%\n",
      "33.333%\n",
      "33.333%\n"
     ]
    }
   ],
   "source": [
    "command_coverage = {'Total': [1, 2]}\n",
    "result = f'{command_coverage[\"Total\"][0] / (command_coverage[\"Total\"][0] + command_coverage[\"Total\"][1]):.3%}'\n",
    "print(result)\n",
    "tested = command_coverage[\"Total\"][0]\n",
    "untested = command_coverage[\"Total\"][1]\n",
    "result2 = f'{tested / (tested + untested):.3%}'\n",
    "print(result2)\n",
    "result3 = f'''{tested /\n",
    "              (tested + untested):.3%}'''\n",
    "print(result3)\n",
    "assert result == result3"
   ]
  },
  {
   "cell_type": "markdown",
   "metadata": {},
   "source": [
    "re string to list"
   ]
  },
  {
   "cell_type": "code",
   "execution_count": 33,
   "metadata": {},
   "outputs": [
    {
     "name": "stdout",
     "output_type": "stream",
     "text": [
      "+        c.argument('registry_name', options_list=['--registry', '-r'])\n",
      "[\"--registry\", \"-r\"]\n",
      "[\"--registry\", \"-r\"]\n",
      "True\n",
      "['--registry', '-r']\n",
      "['--registry', '-r']\n"
     ]
    }
   ],
   "source": [
    "import re\n",
    "import json\n",
    "line = '+        c.argument(\\'registry_name\\', options_list=[\\'--registry\\', \\'-r\\'])'\n",
    "print(line)\n",
    "pattern = r'\\+\\s+c.argument\\((.*)\\)'\n",
    "ref = re.findall(pattern, line)\n",
    "# print(ref)\n",
    "sub_pattern = r'options_list=\\[(.*)\\]'\n",
    "parameter = re.findall(sub_pattern, ref[0])\n",
    "# print(parameter)\n",
    "sub_pattern = r'options_list=(.*)'\n",
    "parameter = re.findall(sub_pattern, ref[0])[0].replace('\\'', '\"')\n",
    "print(parameter)\n",
    "parameter2 = json.dumps(['--registry', '-r'])\n",
    "print(parameter2)\n",
    "print(parameter == parameter2)\n",
    "for i in range(len(parameter)):\n",
    "    if parameter[i] != parameter2[i]:\n",
    "        print(parameter[i], parameter2[i])\n",
    "print(json.loads(parameter2))\n",
    "print(json.loads(parameter))"
   ]
  }
 ],
 "metadata": {
  "interpreter": {
   "hash": "28085907f29ae3142956a4d47369c9afe95d3b5f934ac85b88d8ae9d3dfcb38e"
  },
  "kernelspec": {
   "display_name": "Python 3.9.7 64-bit ('notebook-env': conda)",
   "language": "python",
   "name": "python3"
  },
  "language_info": {
   "codemirror_mode": {
    "name": "ipython",
    "version": 3
   },
   "file_extension": ".py",
   "mimetype": "text/x-python",
   "name": "python",
   "nbconvert_exporter": "python",
   "pygments_lexer": "ipython3",
   "version": "3.9.7"
  },
  "orig_nbformat": 4
 },
 "nbformat": 4,
 "nbformat_minor": 2
}
