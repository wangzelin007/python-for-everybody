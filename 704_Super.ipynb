{
 "cells": [
  {
   "cell_type": "markdown",
   "metadata": {},
   "source": [
    "Return a proxy object that delegates method calls to a parent or sibling class of type. This is useful for accessing inherited methods that have been overridden in a class.\n",
    "返回一个代理对象，该对象将方法调用委托给类型的父类或兄弟类。 这对于访问在类中被覆盖的继承方法很有用。"
   ]
  },
  {
   "cell_type": "code",
   "execution_count": 29,
   "metadata": {},
   "outputs": [
    {
     "name": "stdout",
     "output_type": "stream",
     "text": [
      "<__main__.BuildServiceDeployableBuilder object at 0x000001A82C852AF0>\n",
      "<__main__.BuildServiceDeployableBuilder object at 0x000001A82C852AF0>\n"
     ]
    }
   ],
   "source": [
    "class EmptyDeployableBuilder():\n",
    "    '''\n",
    "    Construct the default relative path\n",
    "    '''\n",
    "    def __init__(self, cmd, client, resource_group, service, app, deployment, sku, **_):\n",
    "        self.cmd = cmd\n",
    "        self.client = client\n",
    "        self.resource_group = resource_group\n",
    "        self.service = service\n",
    "        self.app = app\n",
    "        self.deployment = deployment\n",
    "        self.sku = sku\n",
    "\n",
    "class BuildServiceDeployableBuilder(EmptyDeployableBuilder):\n",
    "    '''\n",
    "    Call build service and get a successful build result\n",
    "    '''\n",
    "    def __init__(self, cmd, client, resource_group, service, app, deployment, sku, **_):\n",
    "        super().__init__(cmd, client, resource_group, service, app, deployment, sku, **_)\n",
    "        self.build_service = (cmd, client, resource_group, service)\n",
    "\n",
    "# True\n",
    "kwargs = {'a': 'b'}\n",
    "print(BuildServiceDeployableBuilder(1, 2, 3, 4, 5, 6, 7, **kwargs))\n",
    "\n",
    "# True\n",
    "kwargs = {\n",
    "    'cmd': 'c',\n",
    "    'client': 'c',\n",
    "    'resource_group': 'c',\n",
    "    'service': 'c',\n",
    "    'app': 'c',\n",
    "    'deployment': 'c',\n",
    "    'sku': 'c',\n",
    "    'a': 'b',\n",
    "}\n",
    "print(BuildServiceDeployableBuilder(**kwargs))"
   ]
  },
  {
   "cell_type": "markdown",
   "metadata": {},
   "source": [
    "TypeError: __init__() missing 7 required positional arguments: 'cmd', 'client', 'resource_group', 'service', 'app', 'deployment', and 'sku'"
   ]
  },
  {
   "cell_type": "code",
   "execution_count": 7,
   "metadata": {},
   "outputs": [
    {
     "ename": "TypeError",
     "evalue": "__init__() missing 7 required positional arguments: 'cmd', 'client', 'resource_group', 'service', 'app', 'deployment', and 'sku'",
     "output_type": "error",
     "traceback": [
      "\u001b[1;31m---------------------------------------------------------------------------\u001b[0m",
      "\u001b[1;31mTypeError\u001b[0m                                 Traceback (most recent call last)",
      "\u001b[1;32mC:\\Users\\ZELINW~1\\AppData\\Local\\Temp/ipykernel_23536/140300198.py\u001b[0m in \u001b[0;36m<module>\u001b[1;34m\u001b[0m\n\u001b[0;32m     34\u001b[0m     \u001b[1;34m'a'\u001b[0m\u001b[1;33m:\u001b[0m \u001b[1;34m'b'\u001b[0m\u001b[1;33m,\u001b[0m\u001b[1;33m\u001b[0m\u001b[1;33m\u001b[0m\u001b[0m\n\u001b[0;32m     35\u001b[0m }\n\u001b[1;32m---> 36\u001b[1;33m \u001b[0mprint\u001b[0m\u001b[1;33m(\u001b[0m\u001b[0mBuildServiceDeployableBuilder\u001b[0m\u001b[1;33m(\u001b[0m\u001b[1;33m**\u001b[0m\u001b[0mkwargs\u001b[0m\u001b[1;33m)\u001b[0m\u001b[1;33m)\u001b[0m\u001b[1;33m\u001b[0m\u001b[1;33m\u001b[0m\u001b[0m\n\u001b[0m",
      "\u001b[1;32mC:\\Users\\ZELINW~1\\AppData\\Local\\Temp/ipykernel_23536/140300198.py\u001b[0m in \u001b[0;36m__init__\u001b[1;34m(self, cmd, client, resource_group, service, app, deployment, sku, **_)\u001b[0m\n\u001b[0;32m     18\u001b[0m     \u001b[1;32mdef\u001b[0m \u001b[0m__init__\u001b[0m\u001b[1;33m(\u001b[0m\u001b[0mself\u001b[0m\u001b[1;33m,\u001b[0m \u001b[0mcmd\u001b[0m\u001b[1;33m,\u001b[0m \u001b[0mclient\u001b[0m\u001b[1;33m,\u001b[0m \u001b[0mresource_group\u001b[0m\u001b[1;33m,\u001b[0m \u001b[0mservice\u001b[0m\u001b[1;33m,\u001b[0m \u001b[0mapp\u001b[0m\u001b[1;33m,\u001b[0m \u001b[0mdeployment\u001b[0m\u001b[1;33m,\u001b[0m \u001b[0msku\u001b[0m\u001b[1;33m,\u001b[0m \u001b[1;33m**\u001b[0m\u001b[0m_\u001b[0m\u001b[1;33m)\u001b[0m\u001b[1;33m:\u001b[0m\u001b[1;33m\u001b[0m\u001b[1;33m\u001b[0m\u001b[0m\n\u001b[0;32m     19\u001b[0m         \u001b[1;31m# super().__init__(cmd, client, resource_group, service, app, deployment, sku, **_)\u001b[0m\u001b[1;33m\u001b[0m\u001b[1;33m\u001b[0m\u001b[0m\n\u001b[1;32m---> 20\u001b[1;33m         \u001b[0msuper\u001b[0m\u001b[1;33m(\u001b[0m\u001b[1;33m)\u001b[0m\u001b[1;33m.\u001b[0m\u001b[0m__init__\u001b[0m\u001b[1;33m(\u001b[0m\u001b[1;33m)\u001b[0m\u001b[1;33m\u001b[0m\u001b[1;33m\u001b[0m\u001b[0m\n\u001b[0m\u001b[0;32m     21\u001b[0m         \u001b[0mself\u001b[0m\u001b[1;33m.\u001b[0m\u001b[0mbuild_service\u001b[0m \u001b[1;33m=\u001b[0m \u001b[1;33m(\u001b[0m\u001b[0mcmd\u001b[0m\u001b[1;33m,\u001b[0m \u001b[0mclient\u001b[0m\u001b[1;33m,\u001b[0m \u001b[0mresource_group\u001b[0m\u001b[1;33m,\u001b[0m \u001b[0mservice\u001b[0m\u001b[1;33m)\u001b[0m\u001b[1;33m\u001b[0m\u001b[1;33m\u001b[0m\u001b[0m\n\u001b[0;32m     22\u001b[0m \u001b[1;33m\u001b[0m\u001b[0m\n",
      "\u001b[1;31mTypeError\u001b[0m: __init__() missing 7 required positional arguments: 'cmd', 'client', 'resource_group', 'service', 'app', 'deployment', and 'sku'"
     ]
    }
   ],
   "source": [
    "class EmptyDeployableBuilder():\n",
    "    '''\n",
    "    Construct the default relative path\n",
    "    '''\n",
    "    def __init__(self, cmd, client, resource_group, service, app, deployment, sku, **_):\n",
    "        self.cmd = cmd\n",
    "        self.client = client\n",
    "        self.resource_group = resource_group\n",
    "        self.service = service\n",
    "        self.app = app\n",
    "        self.deployment = deployment\n",
    "        self.sku = sku\n",
    "\n",
    "class BuildServiceDeployableBuilder(EmptyDeployableBuilder):\n",
    "    '''\n",
    "    Call build service and get a successful build result\n",
    "    '''\n",
    "    def __init__(self, cmd, client, resource_group, service, app, deployment, sku, **_):\n",
    "        # super().__init__(cmd, client, resource_group, service, app, deployment, sku, **_)\n",
    "        super().__init__()\n",
    "        self.build_service = (cmd, client, resource_group, service)\n",
    "\n",
    "# False\n",
    "# kwargs = {'a': 'b'}\n",
    "# print(BuildServiceDeployableBuilder(1, 2, 3, 4, 5, 6, 7, **kwargs))\n",
    "\n",
    "# False\n",
    "kwargs = {\n",
    "    'cmd': 'c',\n",
    "    'client': 'c',\n",
    "    'resource_group': 'c',\n",
    "    'service': 'c',\n",
    "    'app': 'c',\n",
    "    'deployment': 'c',\n",
    "    'sku': 'c',\n",
    "    'a': 'b',\n",
    "}\n",
    "print(BuildServiceDeployableBuilder(**kwargs))"
   ]
  },
  {
   "cell_type": "markdown",
   "metadata": {},
   "source": [
    "TypeError: __init__() missing 7 required positional arguments: 'cmd', 'client', 'resource_group', 'service', 'app', 'deployment', and 'sku'"
   ]
  },
  {
   "cell_type": "code",
   "execution_count": 8,
   "metadata": {},
   "outputs": [
    {
     "name": "stdout",
     "output_type": "stream",
     "text": [
      "<__main__.BuildServiceDeployableBuilder object at 0x00000219D23BD130>\n"
     ]
    }
   ],
   "source": [
    "class EmptyDeployableBuilder():\n",
    "    '''\n",
    "    Construct the default relative path\n",
    "    '''\n",
    "    def __init__(self, cmd, client, resource_group, service, app, deployment, sku, **_):\n",
    "        self.cmd = cmd\n",
    "        self.client = client\n",
    "        self.resource_group = resource_group\n",
    "        self.service = service\n",
    "        self.app = app\n",
    "        self.deployment = deployment\n",
    "        self.sku = sku\n",
    "\n",
    "# False\n",
    "# class BuildServiceDeployableBuilder(EmptyDeployableBuilder):\n",
    "#     '''\n",
    "#     Call build service and get a successful build result\n",
    "#     '''\n",
    "#     def __init__(self, cmd):\n",
    "#         super().__init__()\n",
    "#         self.build_service = (cmd)\n",
    "# print(BuildServiceDeployableBuilder(1))\n",
    "\n",
    "# True\n",
    "class BuildServiceDeployableBuilder(EmptyDeployableBuilder):\n",
    "    '''\n",
    "    Call build service and get a successful build result\n",
    "    '''\n",
    "    def __init__(self, cmd):\n",
    "        super().__init__(1, 2, 3, 4, 5, 6, 7)\n",
    "        self.build_service = (cmd)\n",
    "print(BuildServiceDeployableBuilder(1))"
   ]
  },
  {
   "cell_type": "markdown",
   "metadata": {},
   "source": [
    "Mro: Method Resolution Order\n",
    "采用从左至右的深度优先遍历，但是如果遍历中出现重复的类，只保留最后一个。\n",
    "[D, B, A, object, C, A, object]\n",
    "->\n",
    "[D, B, C, A, object]\n",
    "[Myclass, Base1, BaseBase, object, Base2, BaseBase, object]\n",
    "->\n",
    "[Myclass, Base1, Base2, BaseBase, object]"
   ]
  },
  {
   "cell_type": "code",
   "execution_count": 4,
   "metadata": {},
   "outputs": [
    {
     "name": "stdout",
     "output_type": "stream",
     "text": [
      "the Mro of Myclass (<class '__main__.Myclass'>, <class '__main__.Base1'>, <class '__main__.Base2'>, <class '__main__.BaseBase'>, <class 'object'>)\n",
      "My base\n"
     ]
    },
    {
     "ename": "TypeError",
     "evalue": "__init__() takes 1 positional argument but 2 were given",
     "output_type": "error",
     "traceback": [
      "\u001b[1;31m---------------------------------------------------------------------------\u001b[0m",
      "\u001b[1;31mTypeError\u001b[0m                                 Traceback (most recent call last)",
      "\u001b[1;32mC:\\Users\\ZELINW~1\\AppData\\Local\\Temp/ipykernel_23536/1209312701.py\u001b[0m in \u001b[0;36m<module>\u001b[1;34m\u001b[0m\n\u001b[0;32m     35\u001b[0m         \u001b[0mprint\u001b[0m\u001b[1;33m(\u001b[0m\u001b[1;34m'My base'\u001b[0m\u001b[1;33m)\u001b[0m\u001b[1;33m\u001b[0m\u001b[1;33m\u001b[0m\u001b[0m\n\u001b[0;32m     36\u001b[0m         \u001b[0msuper\u001b[0m\u001b[1;33m(\u001b[0m\u001b[1;33m)\u001b[0m\u001b[1;33m.\u001b[0m\u001b[0m__init__\u001b[0m\u001b[1;33m(\u001b[0m\u001b[0margs\u001b[0m\u001b[1;33m)\u001b[0m\u001b[1;33m\u001b[0m\u001b[1;33m\u001b[0m\u001b[0m\n\u001b[1;32m---> 37\u001b[1;33m \u001b[0mm\u001b[0m \u001b[1;33m=\u001b[0m \u001b[0mMyclass\u001b[0m\u001b[1;33m(\u001b[0m\u001b[1;36m10\u001b[0m\u001b[1;33m)\u001b[0m\u001b[1;33m\u001b[0m\u001b[1;33m\u001b[0m\u001b[0m\n\u001b[0m",
      "\u001b[1;32mC:\\Users\\ZELINW~1\\AppData\\Local\\Temp/ipykernel_23536/1209312701.py\u001b[0m in \u001b[0;36m__init__\u001b[1;34m(self, args)\u001b[0m\n\u001b[0;32m     34\u001b[0m         \u001b[0mprint\u001b[0m\u001b[1;33m(\u001b[0m\u001b[1;34m'the Mro of Myclass'\u001b[0m\u001b[1;33m,\u001b[0m \u001b[0mMyclass\u001b[0m\u001b[1;33m.\u001b[0m\u001b[0m__mro__\u001b[0m\u001b[1;33m)\u001b[0m\u001b[1;33m\u001b[0m\u001b[1;33m\u001b[0m\u001b[0m\n\u001b[0;32m     35\u001b[0m         \u001b[0mprint\u001b[0m\u001b[1;33m(\u001b[0m\u001b[1;34m'My base'\u001b[0m\u001b[1;33m)\u001b[0m\u001b[1;33m\u001b[0m\u001b[1;33m\u001b[0m\u001b[0m\n\u001b[1;32m---> 36\u001b[1;33m         \u001b[0msuper\u001b[0m\u001b[1;33m(\u001b[0m\u001b[1;33m)\u001b[0m\u001b[1;33m.\u001b[0m\u001b[0m__init__\u001b[0m\u001b[1;33m(\u001b[0m\u001b[0margs\u001b[0m\u001b[1;33m)\u001b[0m\u001b[1;33m\u001b[0m\u001b[1;33m\u001b[0m\u001b[0m\n\u001b[0m\u001b[0;32m     37\u001b[0m \u001b[0mm\u001b[0m \u001b[1;33m=\u001b[0m \u001b[0mMyclass\u001b[0m\u001b[1;33m(\u001b[0m\u001b[1;36m10\u001b[0m\u001b[1;33m)\u001b[0m\u001b[1;33m\u001b[0m\u001b[1;33m\u001b[0m\u001b[0m\n",
      "\u001b[1;31mTypeError\u001b[0m: __init__() takes 1 positional argument but 2 were given"
     ]
    }
   ],
   "source": [
    "class BaseBase(object):\n",
    "    def __init__(self) -> None:\n",
    "        print('basebase')\n",
    "        super().__init__()\n",
    "\n",
    "class Base1(BaseBase):\n",
    "    def __init__(self) -> None:\n",
    "        print('base1')\n",
    "        super().__init__()\n",
    "\n",
    "class Base2(BaseBase):\n",
    "    def __init__(self) -> None:\n",
    "        print('base2')\n",
    "        super().__init__()\n",
    "\n",
    "# MyClass 的 __init__ 方法设置为不允许任何参数传入: __init__() takes 1 positional argument but 2 were given\n",
    "# class Myclass(Base1, Base2):\n",
    "#     def __init__(self) -> None:\n",
    "#         print('the Mro of Myclass', Myclass.__mro__)\n",
    "#         print('My base')\n",
    "#         super().__init__()\n",
    "# m = Myclass(10)\n",
    "\n",
    "# True\n",
    "# class Myclass(Base1, Base2):\n",
    "#     def __init__(self, args) -> None:\n",
    "#         print('the Mro of Myclass', Myclass.__mro__)\n",
    "#         print('My base')\n",
    "#         super().__init__()\n",
    "# m = Myclass(10)\n",
    "\n",
    "# Base1的 __init__ 方法中没有允许其余的参数传入: __init__() takes 1 positional argument but 2 were given\n",
    "# class Myclass(Base1, Base2):\n",
    "#     def __init__(self, args) -> None:\n",
    "#         print('the Mro of Myclass', Myclass.__mro__)\n",
    "#         print('My base')\n",
    "#         super().__init__(args)\n",
    "# m = Myclass(10)"
   ]
  },
  {
   "cell_type": "code",
   "execution_count": 9,
   "metadata": {},
   "outputs": [
    {
     "name": "stdout",
     "output_type": "stream",
     "text": [
      "the Mro of Myclass (<class '__main__.Myclass'>, <class '__main__.Base1'>, <class '__main__.Base2'>, <class '__main__.BaseBase'>, <class 'object'>)\n",
      "My base\n",
      "base1\n",
      "base2\n",
      "basebase\n",
      "the Mro of Myclass (<class '__main__.Myclass'>, <class '__main__.Base1'>, <class '__main__.Base2'>, <class '__main__.BaseBase'>, <class 'object'>)\n",
      "My base\n"
     ]
    },
    {
     "ename": "TypeError",
     "evalue": "__init__() missing 1 required positional argument: 'args'",
     "output_type": "error",
     "traceback": [
      "\u001b[1;31m---------------------------------------------------------------------------\u001b[0m",
      "\u001b[1;31mTypeError\u001b[0m                                 Traceback (most recent call last)",
      "\u001b[1;32mC:\\Users\\ZELINW~1\\AppData\\Local\\Temp/ipykernel_23536/1710485682.py\u001b[0m in \u001b[0;36m<module>\u001b[1;34m\u001b[0m\n\u001b[0;32m     28\u001b[0m         \u001b[0mprint\u001b[0m\u001b[1;33m(\u001b[0m\u001b[1;34m'My base'\u001b[0m\u001b[1;33m)\u001b[0m\u001b[1;33m\u001b[0m\u001b[1;33m\u001b[0m\u001b[0m\n\u001b[0;32m     29\u001b[0m         \u001b[0msuper\u001b[0m\u001b[1;33m(\u001b[0m\u001b[1;33m)\u001b[0m\u001b[1;33m.\u001b[0m\u001b[0m__init__\u001b[0m\u001b[1;33m(\u001b[0m\u001b[1;33m)\u001b[0m\u001b[1;33m\u001b[0m\u001b[1;33m\u001b[0m\u001b[0m\n\u001b[1;32m---> 30\u001b[1;33m \u001b[0mm\u001b[0m \u001b[1;33m=\u001b[0m \u001b[0mMyclass\u001b[0m\u001b[1;33m(\u001b[0m\u001b[1;36m10\u001b[0m\u001b[1;33m)\u001b[0m\u001b[1;33m\u001b[0m\u001b[1;33m\u001b[0m\u001b[0m\n\u001b[0m",
      "\u001b[1;32mC:\\Users\\ZELINW~1\\AppData\\Local\\Temp/ipykernel_23536/1710485682.py\u001b[0m in \u001b[0;36m__init__\u001b[1;34m(self, args)\u001b[0m\n\u001b[0;32m     27\u001b[0m         \u001b[0mprint\u001b[0m\u001b[1;33m(\u001b[0m\u001b[1;34m'the Mro of Myclass'\u001b[0m\u001b[1;33m,\u001b[0m \u001b[0mMyclass\u001b[0m\u001b[1;33m.\u001b[0m\u001b[0m__mro__\u001b[0m\u001b[1;33m)\u001b[0m\u001b[1;33m\u001b[0m\u001b[1;33m\u001b[0m\u001b[0m\n\u001b[0;32m     28\u001b[0m         \u001b[0mprint\u001b[0m\u001b[1;33m(\u001b[0m\u001b[1;34m'My base'\u001b[0m\u001b[1;33m)\u001b[0m\u001b[1;33m\u001b[0m\u001b[1;33m\u001b[0m\u001b[0m\n\u001b[1;32m---> 29\u001b[1;33m         \u001b[0msuper\u001b[0m\u001b[1;33m(\u001b[0m\u001b[1;33m)\u001b[0m\u001b[1;33m.\u001b[0m\u001b[0m__init__\u001b[0m\u001b[1;33m(\u001b[0m\u001b[1;33m)\u001b[0m\u001b[1;33m\u001b[0m\u001b[1;33m\u001b[0m\u001b[0m\n\u001b[0m\u001b[0;32m     30\u001b[0m \u001b[0mm\u001b[0m \u001b[1;33m=\u001b[0m \u001b[0mMyclass\u001b[0m\u001b[1;33m(\u001b[0m\u001b[1;36m10\u001b[0m\u001b[1;33m)\u001b[0m\u001b[1;33m\u001b[0m\u001b[1;33m\u001b[0m\u001b[0m\n",
      "\u001b[1;31mTypeError\u001b[0m: __init__() missing 1 required positional argument: 'args'"
     ]
    }
   ],
   "source": [
    "class BaseBase(object):\n",
    "    def __init__(self) -> None:\n",
    "        print('basebase')\n",
    "        super().__init__()\n",
    "\n",
    "class Base1(BaseBase):\n",
    "    def __init__(self, args) -> None:\n",
    "        print('base1')\n",
    "        super().__init__()\n",
    "\n",
    "class Base2(BaseBase):\n",
    "    def __init__(self) -> None:\n",
    "        print('base2')\n",
    "        super().__init__()\n",
    "\n",
    "# True\n",
    "class Myclass(Base1, Base2):\n",
    "    def __init__(self, args) -> None:\n",
    "        print('the Mro of Myclass', Myclass.__mro__)\n",
    "        print('My base')\n",
    "        super().__init__(args)\n",
    "m = Myclass(10)\n",
    "\n",
    "# False __init__() missing 1 required positional argument: 'args'\n",
    "class Myclass(Base1, Base2):\n",
    "    def __init__(self, args) -> None:\n",
    "        print('the Mro of Myclass', Myclass.__mro__)\n",
    "        print('My base')\n",
    "        super().__init__()\n",
    "m = Myclass(10)"
   ]
  }
 ],
 "metadata": {
  "interpreter": {
   "hash": "28085907f29ae3142956a4d47369c9afe95d3b5f934ac85b88d8ae9d3dfcb38e"
  },
  "kernelspec": {
   "display_name": "Python 3.9.7 64-bit ('notebook-env': conda)",
   "language": "python",
   "name": "python3"
  },
  "language_info": {
   "codemirror_mode": {
    "name": "ipython",
    "version": 3
   },
   "file_extension": ".py",
   "mimetype": "text/x-python",
   "name": "python",
   "nbconvert_exporter": "python",
   "pygments_lexer": "ipython3",
   "version": "3.9.7"
  },
  "orig_nbformat": 4
 },
 "nbformat": 4,
 "nbformat_minor": 2
}
