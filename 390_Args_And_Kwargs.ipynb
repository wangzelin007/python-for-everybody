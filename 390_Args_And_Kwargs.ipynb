{
 "cells": [
  {
   "cell_type": "markdown",
   "metadata": {},
   "source": [
    "# Args and Kwargs\n",
    "\n",
    "`args` and `kwargs` are `arguments` and `keyword arguments` in Python, but we tend to say \"args and kwargs\". \n",
    "\n",
    "Arguments are your regular positional arguments in a function (ie. `def add_nums(num1, num2)`). And keyword arguments are arguments that come with a name (ie. `def greeting(name=\"Python\")`) "
   ]
  },
  {
   "cell_type": "markdown",
   "metadata": {},
   "source": [
    "## Arguments"
   ]
  },
  {
   "cell_type": "code",
   "execution_count": 1,
   "metadata": {},
   "outputs": [],
   "source": [
    "def func_name(*args):\n",
    "    print(args)\n",
    "    print(type(args))"
   ]
  },
  {
   "cell_type": "code",
   "execution_count": 2,
   "metadata": {},
   "outputs": [
    {
     "name": "stdout",
     "output_type": "stream",
     "text": [
      "(1, 5, 8, 'Python', 'Coding')\n",
      "<class 'tuple'>\n"
     ]
    }
   ],
   "source": [
    "func_name(1, 5, 8, 'Python', 'Coding')"
   ]
  },
  {
   "cell_type": "code",
   "execution_count": 3,
   "metadata": {},
   "outputs": [],
   "source": [
    "def print_args(*args):\n",
    "    for arg in args:\n",
    "        print(arg)"
   ]
  },
  {
   "cell_type": "code",
   "execution_count": 4,
   "metadata": {},
   "outputs": [
    {
     "name": "stdout",
     "output_type": "stream",
     "text": [
      "Computer\n",
      "Coffee\n",
      "Cup\n",
      "Monitor\n",
      "Lamp\n"
     ]
    }
   ],
   "source": [
    "print_args('Computer', 'Coffee', 'Cup', 'Monitor', 'Lamp')"
   ]
  },
  {
   "cell_type": "markdown",
   "metadata": {},
   "source": [
    "> **Note:** `*args` always comes back as a tuple. It's purposely returning a `tuple` so we cannot modify it. But tuples also hold their order and can be looped over (because they are iterable)"
   ]
  },
  {
   "cell_type": "markdown",
   "metadata": {},
   "source": [
    "## Keyword Arguments"
   ]
  },
  {
   "cell_type": "code",
   "execution_count": 5,
   "metadata": {},
   "outputs": [],
   "source": [
    "def my_func(**kwargs):\n",
    "    print(kwargs)\n",
    "    print(type(kwargs))"
   ]
  },
  {
   "cell_type": "code",
   "execution_count": 7,
   "metadata": {},
   "outputs": [
    {
     "name": "stdout",
     "output_type": "stream",
     "text": [
      "{'name': 'Kalob', 'drink': 'Coffee', 'hobby': 'Gardening'}\n",
      "<class 'dict'>\n"
     ]
    }
   ],
   "source": [
    "my_func(name='Kalob', drink='Coffee', hobby='Gardening')"
   ]
  },
  {
   "cell_type": "code",
   "execution_count": 8,
   "metadata": {},
   "outputs": [],
   "source": [
    "def my_func(**kwargs):\n",
    "    for key, value in kwargs.items():\n",
    "        print(\"Key: \", key, \" \\t\\t\", \"Value: \", value)"
   ]
  },
  {
   "cell_type": "code",
   "execution_count": 9,
   "metadata": {},
   "outputs": [
    {
     "name": "stdout",
     "output_type": "stream",
     "text": [
      "Key:  name  \t\t Value:  Kalob\n",
      "Key:  drink  \t\t Value:  Coffee\n",
      "Key:  hobby  \t\t Value:  Gardening\n"
     ]
    }
   ],
   "source": [
    "my_func(name='Kalob', drink='Coffee', hobby='Gardening')"
   ]
  },
  {
   "cell_type": "markdown",
   "metadata": {},
   "source": [
    "> **Note:** `*kwargs` always come back as a dictionary because they have a specific name (key) and a value."
   ]
  },
  {
   "cell_type": "code",
   "execution_count": 14,
   "metadata": {},
   "outputs": [],
   "source": [
    "def order(name, *dishes, **kwargs):\n",
    "    print(f\"Hello {name}\")\n",
    "    for dish in dishes:\n",
    "        print(f\"\\tYou ordered {dish}\")\n",
    "    \n",
    "    if kwargs.get(\"address\"):\n",
    "        address = kwargs.get(\"address\")\n",
    "        print(f\"\\tWe are delivering to {address}\")\n",
    "    else:\n",
    "        print(\"YOU DID NOT PROVIDE AN ADDRESS WOW CMON\")"
   ]
  },
  {
   "cell_type": "code",
   "execution_count": 16,
   "metadata": {},
   "outputs": [
    {
     "name": "stdout",
     "output_type": "stream",
     "text": [
      "Hello Zephyr\n",
      "\tYou ordered tacos\n",
      "\tYou ordered cat food\n",
      "\tWe are delivering to anything\n"
     ]
    }
   ],
   "source": [
    "order(\"Zephyr\", \"tacos\", \"cat food\", address=\"anything\")"
   ]
  }
 ],
 "metadata": {
  "kernelspec": {
   "display_name": "Python 3",
   "language": "python",
   "name": "python3"
  },
  "language_info": {
   "codemirror_mode": {
    "name": "ipython",
    "version": 3
   },
   "file_extension": ".py",
   "mimetype": "text/x-python",
   "name": "python",
   "nbconvert_exporter": "python",
   "pygments_lexer": "ipython3",
   "version": "3.8.8"
  }
 },
 "nbformat": 4,
 "nbformat_minor": 4
}
