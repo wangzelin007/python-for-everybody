{
 "cells": [
  {
   "cell_type": "markdown",
   "metadata": {},
   "source": [
    "# A large title \n",
    "\n",
    "```\n",
    "print(\"Some code\")\n",
    "var = \"Python\"\n",
    "```\n",
    "\n",
    "Lorem ipsum dolor `sit amet`, consectetur adipisicing elit. Eveniet numquam asperiores, dolore! Animi, veritatis maiores. `Vel magni dolorum`, vitae eum ut culpa unde autem blanditiis voluptatibus tenetur deleniti suscipit officiis non molestias nam reiciendis. Corporis cupiditate non sapiente inventore, illum eum aperiam, veniam numquam adipisci nisi. Necessitatibus, sint aliquid iusto."
   ]
  },
  {
   "cell_type": "code",
   "execution_count": 1,
   "metadata": {},
   "outputs": [
    {
     "name": "stdout",
     "output_type": "stream",
     "text": [
      "Welcome to Python for Everybody\n"
     ]
    }
   ],
   "source": [
    "print(\"Welcome to Python for Everybody\")"
   ]
  },
  {
   "cell_type": "markdown",
   "metadata": {},
   "source": [
    "This is how we write a print statement in python. \n",
    "\n",
    "ie `print(\"Hello\")`"
   ]
  },
  {
   "cell_type": "code",
   "execution_count": 2,
   "metadata": {},
   "outputs": [
    {
     "name": "stdout",
     "output_type": "stream",
     "text": [
      "This is going to be a link (see below)\n"
     ]
    }
   ],
   "source": [
    "print(\"This is going to be a link (see below)\")"
   ]
  },
  {
   "cell_type": "markdown",
   "metadata": {},
   "source": [
    "[pythonforeverybody [dot] com](https://pythonforeverybody.com)"
   ]
  },
  {
   "cell_type": "code",
   "execution_count": 3,
   "metadata": {},
   "outputs": [
    {
     "name": "stdout",
     "output_type": "stream",
     "text": [
      "Pull quotes!\n"
     ]
    }
   ],
   "source": [
    "print(\"Pull quotes!\")"
   ]
  },
  {
   "cell_type": "markdown",
   "metadata": {},
   "source": [
    "> Lorem ipsum dolor sit amet, consectetur adipisicing elit. Eveniet numquam asperiores, dolore! Animi, veritatis maiores. Vel magni dolorum, vitae eum ut culpa unde autem blanditiis voluptatibus tenetur deleniti suscipit officiis non molestias nam reiciendis. Corporis cupiditate non sapiente inventore, illum eum aperiam, veniam numquam adipisci nisi. Necessitatibus, sint aliquid iusto."
   ]
  }
 ],
 "metadata": {
  "kernelspec": {
   "display_name": "Python 3",
   "language": "python",
   "name": "python3"
  },
  "language_info": {
   "codemirror_mode": {
    "name": "ipython",
    "version": 3
   },
   "file_extension": ".py",
   "mimetype": "text/x-python",
   "name": "python",
   "nbconvert_exporter": "python",
   "pygments_lexer": "ipython3",
   "version": "3.8.8"
  }
 },
 "nbformat": 4,
 "nbformat_minor": 4
}
