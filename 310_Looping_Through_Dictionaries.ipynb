{
 "cells": [
  {
   "cell_type": "markdown",
   "metadata": {},
   "source": [
    "# Looping Through Dictionaries\n",
    "\n",
    "Dictionaries are so important in Python you _need_ to know how to loop over them. But they aren't regular sequences, they don't have an index number. Instead of an index number they use names, and we won't always know the names in a dictionary. So looping is a bit different for dictionaries than it is for lists, tuples, sets or strings."
   ]
  },
  {
   "cell_type": "code",
   "execution_count": 1,
   "metadata": {},
   "outputs": [],
   "source": [
    "person = {\n",
    "    'name': 'Kalob',\n",
    "    'course': 'Python for Everybody',\n",
    "    'role': 'Teacher',\n",
    "}"
   ]
  },
  {
   "cell_type": "code",
   "execution_count": 2,
   "metadata": {},
   "outputs": [
    {
     "data": {
      "text/plain": [
       "{'name': 'Kalob', 'course': 'Python for Everybody', 'role': 'Teacher'}"
      ]
     },
     "execution_count": 2,
     "metadata": {},
     "output_type": "execute_result"
    }
   ],
   "source": [
    "person"
   ]
  },
  {
   "cell_type": "code",
   "execution_count": 6,
   "metadata": {},
   "outputs": [
    {
     "name": "stdout",
     "output_type": "stream",
     "text": [
      "name Kalob\n",
      "course Python for Everybody\n",
      "role Teacher\n"
     ]
    }
   ],
   "source": [
    "for key in person:\n",
    "    value = person[key]\n",
    "    print(key, value)"
   ]
  },
  {
   "cell_type": "markdown",
   "metadata": {},
   "source": [
    "> **Note**: A regular `for` loop on a dictionary just prints the keys. That's not super helpful if we want key/value pairs without creating our own variables.\n",
    "\n",
    "#### Using `.item()`'s to create key/value pairs in a tuple"
   ]
  },
  {
   "cell_type": "code",
   "execution_count": 7,
   "metadata": {},
   "outputs": [
    {
     "data": {
      "text/plain": [
       "dict_items([('name', 'Kalob'), ('course', 'Python for Everybody'), ('role', 'Teacher')])"
      ]
     },
     "execution_count": 7,
     "metadata": {},
     "output_type": "execute_result"
    }
   ],
   "source": [
    "person.items()"
   ]
  },
  {
   "cell_type": "code",
   "execution_count": 8,
   "metadata": {},
   "outputs": [
    {
     "name": "stdout",
     "output_type": "stream",
     "text": [
      "Key: name \t\t Value: Kalob\n",
      "Key: course \t\t Value: Python for Everybody\n",
      "Key: role \t\t Value: Teacher\n"
     ]
    }
   ],
   "source": [
    "for key, value in person.items():\n",
    "    print(f\"Key: {key} \\t\\t Value: {value}\")"
   ]
  }
 ],
 "metadata": {
  "kernelspec": {
   "display_name": "Python 3",
   "language": "python",
   "name": "python3"
  },
  "language_info": {
   "codemirror_mode": {
    "name": "ipython",
    "version": 3
   },
   "file_extension": ".py",
   "mimetype": "text/x-python",
   "name": "python",
   "nbconvert_exporter": "python",
   "pygments_lexer": "ipython3",
   "version": "3.8.8"
  }
 },
 "nbformat": 4,
 "nbformat_minor": 4
}
