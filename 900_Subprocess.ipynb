{
 "cells": [
  {
   "cell_type": "code",
   "execution_count": null,
   "metadata": {},
   "outputs": [],
   "source": [
    "import subprocess\n",
    "\n",
    "\n",
    "string = 'echo $HOME'\n",
    "cmd = ['echo', '$HOME']\n",
    "# FileNotFoundError: [Errno 2] No such file or directory: 'echo $HOME'\n",
    "#subprocess.call(string, shell=False)\n",
    "# /home/wangzelin\n",
    "subprocess.call(string, shell=True)\n",
    "# $HOME\n",
    "subprocess.call(cmd, shell=False)\n",
    "# empty\n",
    "subprocess.call(cmd, shell=True)\n",
    "subprocess.call(['echo', '$HOME'], shell=True)\n",
    "# $HOME\n",
    "out_bytes=subprocess.check_output(cmd, shell=False)\n",
    "out_text = out_bytes.decode('utf-8')\n",
    "print('check_output', out_text)\n",
    "# display all\n",
    "subprocess.call(['ls', '-al'])\n",
    "\n",
    "subprocess.run(['ls', '-al'])\n",
    "ref = subprocess.run(['ls', '-al'])\n",
    "# ref CompletedProcess(args=['ls', '-al'], returncode=0)\n",
    "print(ref.args)\n",
    "print(ref.returncode)\n",
    "ref = subprocess.run(['ls', '-al'], check=True)\n",
    "# 如果 check 设为 True, 并且进程以非零状态码退出, 一个 CalledProcessError 异常将被抛出. \n",
    "# 这个异常的属性将设置为参数, 退出码, 以及标准输出和标准错误, 如果被捕获到.\n",
    "# class subprocess.CompletedProcess\n",
    "# args / returncode / stdout / stderr / check_returncode()\n",
    "\n",
    "\n",
    "# shell=True 不安全，但是如果想使用shell管道、文件名通配符、环境变量扩展和扩展〜到用户的主目录，这会很有用。\n",
    "\n",
    "# 推荐使用\n",
    "subprocess.run(args, *, stdin=None, input=None, stdout=None, stderr=None, capture_output=False, shell=False, cwd=None, timeout=None, check=False, encoding=None, errors=None, text=None, env=None, universal_newlines=None, **other_popen_kwargs)\n",
    "\n",
    "subprocess.Popen(args, bufsize=- 1, executable=None, stdin=None, stdout=None, stderr=None, preexec_fn=None, close_fds=True, shell=False, cwd=None, env=None, universal_newlines=None, startupinfo=None, creationflags=0, restore_signals=True, start_new_session=False, pass_fds=(), *, group=None, extra_groups=None, user=None, umask=- 1, encoding=None, errors=None, text=None, pipesize=- 1, process_group=None)\n",
    "\n",
    "# 环境变量\n",
    "# 使用场景？\n",
    "import subprocess, os\n",
    "my_env = os.environ.copy()\n",
    "my_env[\"PATH\"] = \"/usr/sbin:/sbin:\" + my_env[\"PATH\"]\n",
    "subprocess.Popen(my_command, env=my_env)"
   ]
  }
 ],
 "metadata": {
  "kernelspec": {
   "display_name": "Python 3.9.5 64-bit",
   "language": "python",
   "name": "python3"
  },
  "language_info": {
   "codemirror_mode": {
    "name": "ipython",
    "version": 3
   },
   "file_extension": ".py",
   "mimetype": "text/x-python",
   "name": "python",
   "nbconvert_exporter": "python",
   "pygments_lexer": "ipython3",
   "version": "3.9.5"
  },
  "orig_nbformat": 4,
  "vscode": {
   "interpreter": {
    "hash": "0a3d8e5d6326ff0dbf5c01174c3a39a61269a9dfdd40df392e18666238021bc2"
   }
  }
 },
 "nbformat": 4,
 "nbformat_minor": 2
}
