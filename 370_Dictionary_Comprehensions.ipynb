{
 "cells": [
  {
   "cell_type": "markdown",
   "metadata": {},
   "source": [
    "# Dictionary Comprehensions\n",
    "\n",
    "Dictionary comprehensions are _very_ similar to list comprehensions, but instead of building out a list it will create a dictionary. \n",
    "\n",
    "The main difference is a dictionary comprehension requires a `key:value` to be returned in order to map the keys and values in a dictionary. \n",
    "\n",
    "#### Creating a dictionary from a list of keys and values"
   ]
  },
  {
   "cell_type": "code",
   "execution_count": 1,
   "metadata": {},
   "outputs": [],
   "source": [
    "keys = ['name', 'age', 'role']\n",
    "values = ['Kalob', 30, 'Teacher']\n",
    "person = {} \n",
    "for key, value in zip(keys, values):\n",
    "    person[key] = value"
   ]
  },
  {
   "cell_type": "code",
   "execution_count": 2,
   "metadata": {},
   "outputs": [
    {
     "data": {
      "text/plain": [
       "{'name': 'Kalob', 'age': 30, 'role': 'Teacher'}"
      ]
     },
     "execution_count": 2,
     "metadata": {},
     "output_type": "execute_result"
    }
   ],
   "source": [
    "person"
   ]
  },
  {
   "cell_type": "code",
   "execution_count": 3,
   "metadata": {},
   "outputs": [
    {
     "data": {
      "text/plain": [
       "dict"
      ]
     },
     "execution_count": 3,
     "metadata": {},
     "output_type": "execute_result"
    }
   ],
   "source": [
    "type(person)"
   ]
  },
  {
   "cell_type": "markdown",
   "metadata": {},
   "source": [
    "#### Using a ditionary comprehension"
   ]
  },
  {
   "cell_type": "code",
   "execution_count": 4,
   "metadata": {},
   "outputs": [],
   "source": [
    "person2 = {key:value for key, value in zip(keys, values)}"
   ]
  },
  {
   "cell_type": "code",
   "execution_count": 5,
   "metadata": {},
   "outputs": [
    {
     "data": {
      "text/plain": [
       "{'name': 'Kalob', 'age': 30, 'role': 'Teacher'}"
      ]
     },
     "execution_count": 5,
     "metadata": {},
     "output_type": "execute_result"
    }
   ],
   "source": [
    "person2"
   ]
  },
  {
   "cell_type": "markdown",
   "metadata": {},
   "source": [
    "#### Creating a ditionary that filters out the `age` key"
   ]
  },
  {
   "cell_type": "code",
   "execution_count": 6,
   "metadata": {},
   "outputs": [],
   "source": [
    "person3 = {key:value for key, value in zip(keys, values) if key != 'age'}"
   ]
  },
  {
   "cell_type": "code",
   "execution_count": 7,
   "metadata": {},
   "outputs": [
    {
     "data": {
      "text/plain": [
       "{'name': 'Kalob', 'role': 'Teacher'}"
      ]
     },
     "execution_count": 7,
     "metadata": {},
     "output_type": "execute_result"
    }
   ],
   "source": [
    "person3"
   ]
  },
  {
   "cell_type": "markdown",
   "metadata": {},
   "source": [
    "Merge two complicate dict"
   ]
  },
  {
   "cell_type": "code",
   "execution_count": 3,
   "metadata": {},
   "outputs": [
    {
     "name": "stdout",
     "output_type": "stream",
     "text": [
      "{'vm': ['vm add -n', 'vm delete -n'], 'network': ['network add -n', 'network delete -n']}\n",
      "{'vm': ['vm add -n', 'vm delete -n'], 'network': ['network add -n', 'network delete -n'], 'storage': ['storage add -n']}\n"
     ]
    }
   ],
   "source": [
    "dict1 = {'vm': ['vm add -n', 'vm delete -n'],\n",
    "         'network': ['network add -n', 'network delete -n']}\n",
    "dict2 = {'vm': ['vm add -n', 'vm update -n'],\n",
    "         'network': ['network add -n', 'network update -n']}\n",
    "dict2.update(dict1)\n",
    "print(dict2)\n",
    "dict3 = {'storage': ['storage add -n']}\n",
    "dict2.update(dict3)\n",
    "print(dict2)"
   ]
  }
 ],
 "metadata": {
  "kernelspec": {
   "display_name": "Python 3",
   "language": "python",
   "name": "python3"
  },
  "language_info": {
   "codemirror_mode": {
    "name": "ipython",
    "version": 3
   },
   "file_extension": ".py",
   "mimetype": "text/x-python",
   "name": "python",
   "nbconvert_exporter": "python",
   "pygments_lexer": "ipython3",
   "version": "3.9.7"
  }
 },
 "nbformat": 4,
 "nbformat_minor": 4
}
