{
 "cells": [
  {
   "cell_type": "markdown",
   "metadata": {},
   "source": [
    "# Code Comments\n",
    "\n",
    "Comments are a way to leave notes for yourself and other developers. These are no executed by the Python runtime, they are simply ignored. \n",
    "\n",
    "A comment typically starts with a `#` (except for docstrings) and everything after it will be the comment. You can leave comments on their own lines, and at the end of lines of code. "
   ]
  },
  {
   "cell_type": "code",
   "execution_count": 1,
   "metadata": {},
   "outputs": [
    {
     "name": "stdout",
     "output_type": "stream",
     "text": [
      "What is your name? \n"
     ]
    }
   ],
   "source": [
    "# This will ask for the users name\n",
    "name = input(\"What is your name? \")\n",
    "\n",
    "# This is a string -> A BAD COMMENT becauseit's not useful. \n",
    "role = \"Student\"\n",
    "\n",
    "person = {}\n",
    "# Get the persons are, or assign None if an age wasn't found -> A GOOD COMMENT because it describes what it's doing. \n",
    "age = person.get(\"age\", None)"
   ]
  },
  {
   "cell_type": "code",
   "execution_count": 2,
   "metadata": {},
   "outputs": [],
   "source": [
    "age"
   ]
  },
  {
   "cell_type": "code",
   "execution_count": 3,
   "metadata": {},
   "outputs": [
    {
     "data": {
      "text/plain": [
       "NoneType"
      ]
     },
     "execution_count": 3,
     "metadata": {},
     "output_type": "execute_result"
    }
   ],
   "source": [
    "type(age)"
   ]
  },
  {
   "cell_type": "markdown",
   "metadata": {},
   "source": [
    "### Docstrings"
   ]
  },
  {
   "cell_type": "code",
   "execution_count": 6,
   "metadata": {},
   "outputs": [],
   "source": [
    "def func_name():\n",
    "    \"\"\"\n",
    "    This is a demo function, and is not used at all.\n",
    "    It's allowed to be deleted in the future. \n",
    "    \"\"\"\n",
    "    \n",
    "    return \"Something in here\""
   ]
  }
 ],
 "metadata": {
  "kernelspec": {
   "display_name": "Python 3",
   "language": "python",
   "name": "python3"
  },
  "language_info": {
   "codemirror_mode": {
    "name": "ipython",
    "version": 3
   },
   "file_extension": ".py",
   "mimetype": "text/x-python",
   "name": "python",
   "nbconvert_exporter": "python",
   "pygments_lexer": "ipython3",
   "version": "3.8.8"
  }
 },
 "nbformat": 4,
 "nbformat_minor": 4
}
