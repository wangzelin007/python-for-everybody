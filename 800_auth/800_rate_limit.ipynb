{
 "cells": [
  {
   "cell_type": "markdown",
   "metadata": {},
   "source": [
    "https://docs.github.com/en/rest/overview/resources-in-the-rest-api#requests-from-personal-accounts\n",
    "\n",
    "User-to-server requests are limited to 5,000 requests per hour and per authenticated user. All requests from OAuth applications authorized by a user or a personal access token owned by the user, and requests authenticated with any of the user's authentication credentials, share the same quota of 5,000 requests per hour for that user."
   ]
  },
  {
   "cell_type": "code",
   "execution_count": 3,
   "metadata": {},
   "outputs": [
    {
     "name": "stdout",
     "output_type": "stream",
     "text": [
      "{'resources': {'core': {'limit': 5000, 'used': 0, 'remaining': 5000, 'reset': 1662577199}, 'search': {'limit': 30, 'used': 0, 'remaining': 30, 'reset': 1662573659}, 'graphql': {'limit': 5000, 'used': 0, 'remaining': 5000, 'reset': 1662577199}, 'integration_manifest': {'limit': 5000, 'used': 0, 'remaining': 5000, 'reset': 1662577199}, 'source_import': {'limit': 100, 'used': 0, 'remaining': 100, 'reset': 1662573659}, 'code_scanning_upload': {'limit': 1000, 'used': 0, 'remaining': 1000, 'reset': 1662577199}, 'actions_runner_registration': {'limit': 10000, 'used': 0, 'remaining': 10000, 'reset': 1662577199}, 'scim': {'limit': 15000, 'used': 0, 'remaining': 15000, 'reset': 1662577199}, 'dependency_snapshots': {'limit': 100, 'used': 0, 'remaining': 100, 'reset': 1662573659}}, 'rate': {'limit': 5000, 'used': 0, 'remaining': 5000, 'reset': 1662577199}}\n"
     ]
    }
   ],
   "source": [
    "import requests\n",
    "headers = {\n",
    "    \"Authorization\": \"token {}\".format(token)\n",
    "}\n",
    "resp = requests.get('https://api.github.com/rate_limit', headers=headers)\n",
    "print(resp.json())"
   ]
  },
  {
   "cell_type": "markdown",
   "metadata": {},
   "source": [
    "https://docs.github.com/en/developers/apps/building-github-apps/rate-limits-for-github-apps\n",
    "\n",
    "Default user-to-server rate limits for GitHub.com\n",
    "User-to-server requests are limited to 5,000 requests per hour and per authenticated user. All requests from OAuth applications authorized by a user or a personal access token owned by the user, and requests authenticated with any of the user's authentication credentials, share the same quota of 5,000 requests per hour for that user.\n",
    "\n",
    "Server-to-server rate limits for GitHub Enterprise Cloud\n",
    "GitHub Apps that are installed on an organization within an enterprise on GitHub.com are subject to a limit of 15,000 requests per hour per organization that has installed the app."
   ]
  },
  {
   "cell_type": "code",
   "execution_count": 4,
   "metadata": {},
   "outputs": [
    {
     "name": "stdout",
     "output_type": "stream",
     "text": [
      "{'resources': {'core': {'limit': 5000, 'used': 4, 'remaining': 4996, 'reset': 1662576392}, 'search': {'limit': 30, 'used': 0, 'remaining': 30, 'reset': 1662573692}, 'graphql': {'limit': 5000, 'used': 0, 'remaining': 5000, 'reset': 1662577232}, 'integration_manifest': {'limit': 5000, 'used': 0, 'remaining': 5000, 'reset': 1662577232}, 'source_import': {'limit': 100, 'used': 0, 'remaining': 100, 'reset': 1662573692}, 'code_scanning_upload': {'limit': 1000, 'used': 0, 'remaining': 1000, 'reset': 1662577232}, 'actions_runner_registration': {'limit': 10000, 'used': 0, 'remaining': 10000, 'reset': 1662577232}, 'scim': {'limit': 15000, 'used': 0, 'remaining': 15000, 'reset': 1662577232}, 'dependency_snapshots': {'limit': 100, 'used': 0, 'remaining': 100, 'reset': 1662573692}}, 'rate': {'limit': 5000, 'used': 4, 'remaining': 4996, 'reset': 1662576392}}\n"
     ]
    }
   ],
   "source": [
    "headers = {\n",
    "    \"Authorization\": \"token {}\".format(app_token)\n",
    "}\n",
    "resp = requests.get('https://api.github.com/rate_limit', headers=headers)\n",
    "print(resp.json())"
   ]
  },
  {
   "cell_type": "markdown",
   "metadata": {},
   "source": [
    "Requests from GitHub Actions\n",
    "When using GITHUB_TOKEN, the rate limit is 1,000 requests per hour per repository. For requests to resources that belong to an enterprise account on GitHub.com, GitHub Enterprise Cloud's rate limit applies, and the limit is 15,000 requests per hour per repository."
   ]
  },
  {
   "cell_type": "markdown",
   "metadata": {},
   "source": [
    "Error:\n",
    "> HTTP/2 403\n",
    "> Date: Tue, 20 Aug 2013 14:50:41 GMT\n",
    "> x-ratelimit-limit: 60\n",
    "> x-ratelimit-remaining: 0\n",
    "> x-ratelimit-used: 60\n",
    "> x-ratelimit-reset: 1377013266\n",
    "\n",
    "> {\n",
    ">    \"message\": \"API rate limit exceeded for xxx.xxx.xxx.xxx. (But here's the good news: Authenticated requests get a higher rate limit. Check out the documentation for more details.)\",\n",
    ">    \"documentation_url\": \"https://docs.github.com/rest/overview/resources-in-the-rest-api#rate-limiting\"\n",
    "> }"
   ]
  }
 ],
 "metadata": {
  "kernelspec": {
   "display_name": "Python 3.9.5 64-bit",
   "language": "python",
   "name": "python3"
  },
  "language_info": {
   "codemirror_mode": {
    "name": "ipython",
    "version": 3
   },
   "file_extension": ".py",
   "mimetype": "text/x-python",
   "name": "python",
   "nbconvert_exporter": "python",
   "pygments_lexer": "ipython3",
   "version": "3.9.5"
  },
  "orig_nbformat": 4,
  "vscode": {
   "interpreter": {
    "hash": "0a3d8e5d6326ff0dbf5c01174c3a39a61269a9dfdd40df392e18666238021bc2"
   }
  }
 },
 "nbformat": 4,
 "nbformat_minor": 2
}
