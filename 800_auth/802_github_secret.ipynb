{
 "cells": [
  {
   "cell_type": "markdown",
   "metadata": {},
   "source": [
    "https://docs.github.com/en/developers/webhooks-and-events/webhooks/securing-your-webhooks"
   ]
  },
  {
   "cell_type": "code",
   "execution_count": null,
   "metadata": {},
   "outputs": [],
   "source": [
    "if 'x-hub-signature-256' in request.headers:\n",
    "    x_hub_signature_256 = request.headers.get('x-hub-signature-256')\n",
    "if not x_hub_signature_256:\n",
    "    return {\"message\": \"x-hub-signature-256 is missing!\"}, 401\n",
    "try:\n",
    "    key = bytes(os.getenv('GH_SECRET', 'secret string'), 'utf-8')\n",
    "    expected_signature = hmac.new(key=key, msg=request.data, digestmod=hashlib.sha256).hexdigest()\n",
    "    app.logger.info(\"====== expected signature: %s ======\", expected_signature)\n",
    "    incoming_signature = x_hub_signature_256.split('sha256=')[-1].strip()\n",
    "    if not hmac.compare_digest(incoming_signature, expected_signature):\n",
    "        return {\"message\": \"x-hub-signature-256 invalid!\"}, 401\n",
    "except:\n",
    "    return {\"message\": \"x-hub-signature-256 invalid!\"}, 401"
   ]
  }
 ],
 "metadata": {
  "kernelspec": {
   "display_name": "Python 3.9.5 64-bit",
   "language": "python",
   "name": "python3"
  },
  "language_info": {
   "name": "python",
   "version": "3.9.5"
  },
  "orig_nbformat": 4,
  "vscode": {
   "interpreter": {
    "hash": "0a3d8e5d6326ff0dbf5c01174c3a39a61269a9dfdd40df392e18666238021bc2"
   }
  }
 },
 "nbformat": 4,
 "nbformat_minor": 2
}
