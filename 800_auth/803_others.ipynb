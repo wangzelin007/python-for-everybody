{
 "cells": [
  {
   "cell_type": "markdown",
   "metadata": {},
   "source": [
    "User agent required\n",
    "All API requests MUST include a valid User-Agent header. \n",
    "Requests with no User-Agent header will be rejected. \n",
    "We request that you use your GitHub username, or the name of your application, for the User-Agent header value. \n",
    "This allows us to contact you if there are problems.\n",
    "\n",
    "Here's an example:\n",
    "User-Agent: azure-cli-bot"
   ]
  },
  {
   "cell_type": "markdown",
   "metadata": {},
   "source": [
    "Most responses return an ETag header. Many responses also return a Last-Modified header. You can use the values of these headers to make subsequent requests to those resources using the If-None-Match and If-Modified-Since headers, respectively. If the resource has not changed, the server will return a 304 Not Modified.\n",
    "\n",
    "$ curl -I https://api.github.com/user\n",
    "> HTTP/2 200\n",
    "> Cache-Control: private, max-age=60\n",
    "> ETag: \"644b5b0155e6404a9cc4bd9d8b1ae730\"\n",
    "> Last-Modified: Thu, 05 Jul 2012 15:31:30 GMT\n",
    "> Vary: Accept, Authorization, Cookie\n",
    "> x-ratelimit-limit: 5000\n",
    "> x-ratelimit-remaining: 4996\n",
    "> x-ratelimit-reset: 1372700873\n",
    "\n",
    "$ curl -I https://api.github.com/user -H 'If-None-Match: \"644b5b0155e6404a9cc4bd9d8b1ae730\"'\n",
    "> HTTP/2 304\n",
    "> Cache-Control: private, max-age=60\n",
    "> ETag: \"644b5b0155e6404a9cc4bd9d8b1ae730\"\n",
    "> Last-Modified: Thu, 05 Jul 2012 15:31:30 GMT\n",
    "> Vary: Accept, Authorization, Cookie\n",
    "> x-ratelimit-limit: 5000\n",
    "> x-ratelimit-remaining: 4996\n",
    "> x-ratelimit-reset: 1372700873\n",
    "\n",
    "$ curl -I https://api.github.com/user -H \"If-Modified-Since: Thu, 05 Jul 2012 15:31:30 GMT\"\n",
    "> HTTP/2 304\n",
    "> Cache-Control: private, max-age=60\n",
    "> Last-Modified: Thu, 05 Jul 2012 15:31:30 GMT\n",
    "> Vary: Accept, Authorization, Cookie\n",
    "> x-ratelimit-limit: 5000\n",
    "> x-ratelimit-remaining: 4996\n",
    "> x-ratelimit-reset: 1372700873"
   ]
  },
  {
   "cell_type": "markdown",
   "metadata": {},
   "source": [
    "https://docs.github.com/en/rest/overview/resources-in-the-rest-api#explicitly-providing-an-iso-8601-timestamp-with-timezone-information\n",
    "\n",
    "UTC to ISO 8601 with Local TimeZone information without microsecond (Python 3):\n",
    "import datetime\n",
    "datetime.datetime.now().astimezone().replace(microsecond=0).isoformat()\n",
    ">>> 2020-03-20T14:31:43+13:00"
   ]
  }
 ],
 "metadata": {
  "kernelspec": {
   "display_name": "Python 3.9.5 64-bit",
   "language": "python",
   "name": "python3"
  },
  "language_info": {
   "name": "python",
   "version": "3.9.5"
  },
  "orig_nbformat": 4,
  "vscode": {
   "interpreter": {
    "hash": "0a3d8e5d6326ff0dbf5c01174c3a39a61269a9dfdd40df392e18666238021bc2"
   }
  }
 },
 "nbformat": 4,
 "nbformat_minor": 2
}
