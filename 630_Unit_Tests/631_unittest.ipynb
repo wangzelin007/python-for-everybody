{
 "cells": [
  {
   "cell_type": "markdown",
   "metadata": {},
   "source": [
    "```\n",
    "@unittest.skip(reason)¶\n",
    "跳过被此装饰器装饰的测试。 reason 为测试被跳过的原因。\n",
    "\n",
    "@unittest.skipIf(condition, reason)\n",
    "当 condition 为 true 时，跳过被装饰的测试。\n",
    "\n",
    "@unittest.skipUnless(condition, reason)\n",
    "跳过被装饰的测试，除非 condition 为真(condition 为 false 时跳过)。\n",
    "\n",
    "@unittest.expectedFailure\n",
    "将测试标记为预期的失败或错误。 \n",
    "如果测试失败或在测试函数自身（而非在某个 test fixture 方法）中出现错误则将认为是测试成功。 \n",
    "如果测试通过，则将认为是测试失败。\n",
    "```"
   ]
  },
  {
   "cell_type": "code",
   "execution_count": 5,
   "metadata": {},
   "outputs": [],
   "source": [
    "import unittest\n",
    "import sys\n",
    "\n",
    "class MyTestCase(unittest.TestCase):\n",
    "\n",
    "    @unittest.skip(\"demonstrating skipping\")\n",
    "    def test_nothing(self):\n",
    "        self.fail(\"shouldn't happen\")\n",
    "\n",
    "    @unittest.skipIf(mylib.__version__ < (1, 3),\n",
    "                     \"not supported in this library version\")\n",
    "    def test_format(self):\n",
    "        # Tests that work for only a certain version of the library.\n",
    "        pass\n",
    "\n",
    "    @unittest.skipUnless(sys.platform.startswith(\"win\"), \"requires Windows\")\n",
    "    def test_windows_support(self):\n",
    "        # windows specific testing code\n",
    "        print(\"Skip!\")\n",
    "\n",
    "    def test_maybe_skipped(self):\n",
    "        if not external_resource_available():\n",
    "            self.skipTest(\"external resource not available\")\n",
    "        # test code that depends on the external resource\n",
    "        pass"
   ]
  }
 ],
 "metadata": {
  "kernelspec": {
   "display_name": "Python 3.9.5 64-bit",
   "language": "python",
   "name": "python3"
  },
  "language_info": {
   "codemirror_mode": {
    "name": "ipython",
    "version": 3
   },
   "file_extension": ".py",
   "mimetype": "text/x-python",
   "name": "python",
   "nbconvert_exporter": "python",
   "pygments_lexer": "ipython3",
   "version": "3.9.5"
  },
  "orig_nbformat": 4,
  "vscode": {
   "interpreter": {
    "hash": "0a3d8e5d6326ff0dbf5c01174c3a39a61269a9dfdd40df392e18666238021bc2"
   }
  }
 },
 "nbformat": 4,
 "nbformat_minor": 2
}
