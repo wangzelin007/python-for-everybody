{
 "cells": [
  {
   "cell_type": "markdown",
   "metadata": {},
   "source": [
    "# While Loops\n",
    "\n",
    "While loops are a lot less common that a `for` loop in Python, but they are still vital to know about. \n",
    "\n",
    "**Be careful!** A while loop will run until you tell it to stop. If you don't tell it to stop, it will run forever. \n",
    "\n",
    "While loops are like `if` statements: they will always look for a True statement. "
   ]
  },
  {
   "cell_type": "code",
   "execution_count": 4,
   "metadata": {},
   "outputs": [],
   "source": [
    "num = 100"
   ]
  },
  {
   "cell_type": "code",
   "execution_count": 5,
   "metadata": {},
   "outputs": [
    {
     "name": "stdout",
     "output_type": "stream",
     "text": [
      "100\n",
      "95\n",
      "90\n",
      "85\n",
      "80\n",
      "75\n",
      "70\n",
      "65\n",
      "60\n",
      "55\n",
      "50\n",
      "45\n",
      "40\n",
      "35\n",
      "30\n",
      "25\n",
      "20\n",
      "15\n",
      "10\n",
      "5\n",
      "0\n"
     ]
    }
   ],
   "source": [
    "while num >= 0:\n",
    "    print(num)\n",
    "    num = num - 5"
   ]
  },
  {
   "cell_type": "markdown",
   "metadata": {},
   "source": [
    "👆Above we opened a loop that will run until the number 100 becomes less than (or equal to) 0, but inside of the loop we told it to reduce the number 100 by 5 on every iteration, so eventually the while loop ends."
   ]
  },
  {
   "cell_type": "code",
   "execution_count": 4,
   "metadata": {},
   "outputs": [
    {
     "name": "stdout",
     "output_type": "stream",
     "text": [
      "enter else1\n"
     ]
    }
   ],
   "source": [
    "row_num = 0\n",
    "total_lines = 10\n",
    "END_PATTERN = True\n",
    "while row_num < total_lines:\n",
    "    if not END_PATTERN:\n",
    "        print('enter if')\n",
    "        row_num += 1\n",
    "    else:\n",
    "        row_num += 1\n",
    "        print('enter else1')\n",
    "        break\n",
    "else:\n",
    "    print('enter else2')"
   ]
  },
  {
   "cell_type": "code",
   "execution_count": 5,
   "metadata": {},
   "outputs": [
    {
     "name": "stdout",
     "output_type": "stream",
     "text": [
      "enter if\n",
      "enter if\n",
      "enter if\n",
      "enter if\n",
      "enter if\n",
      "enter if\n",
      "enter if\n",
      "enter if\n",
      "enter if\n",
      "enter if\n",
      "enter else2\n"
     ]
    }
   ],
   "source": [
    "row_num = 0\n",
    "total_lines = 10\n",
    "END_PATTERN = False\n",
    "while row_num < total_lines:\n",
    "    if not END_PATTERN:\n",
    "        print('enter if')\n",
    "        row_num += 1\n",
    "    else:\n",
    "        row_num += 1\n",
    "        print('enter else1')\n",
    "        break\n",
    "else:\n",
    "    print('enter else2')"
   ]
  },
  {
   "cell_type": "code",
   "execution_count": null,
   "metadata": {},
   "outputs": [],
   "source": []
  }
 ],
 "metadata": {
  "kernelspec": {
   "display_name": "Python 3",
   "language": "python",
   "name": "python3"
  },
  "language_info": {
   "codemirror_mode": {
    "name": "ipython",
    "version": 3
   },
   "file_extension": ".py",
   "mimetype": "text/x-python",
   "name": "python",
   "nbconvert_exporter": "python",
   "pygments_lexer": "ipython3",
   "version": "3.8.8"
  }
 },
 "nbformat": 4,
 "nbformat_minor": 4
}
