{
 "cells": [
  {
   "cell_type": "markdown",
   "metadata": {},
   "source": [
    "# Comparison Shortcuts\n",
    "\n",
    "Not all comparisons need a comparison operator. By default Python will look for a `True` statement.\n",
    "\n",
    "And some data types have a boolean (True/Fast) equivalent. \n",
    "\n",
    "For example: Empty strings, lists, tuples, and dictionaries are False. "
   ]
  },
  {
   "cell_type": "markdown",
   "metadata": {},
   "source": [
    "#### The simplest for of an \"if\" statement"
   ]
  },
  {
   "cell_type": "code",
   "execution_count": 1,
   "metadata": {},
   "outputs": [
    {
     "name": "stdout",
     "output_type": "stream",
     "text": [
      "This is a true statement\n"
     ]
    }
   ],
   "source": [
    "if True:\n",
    "    print(\"This is a true statement\")"
   ]
  },
  {
   "cell_type": "markdown",
   "metadata": {},
   "source": [
    "#### Checking if a string has characters"
   ]
  },
  {
   "cell_type": "code",
   "execution_count": 10,
   "metadata": {},
   "outputs": [],
   "source": [
    "string = \"\""
   ]
  },
  {
   "cell_type": "code",
   "execution_count": 11,
   "metadata": {},
   "outputs": [
    {
     "name": "stdout",
     "output_type": "stream",
     "text": [
      "String does not have a value\n"
     ]
    }
   ],
   "source": [
    "if string:\n",
    "    print(\"String has a value\")\n",
    "if not string:\n",
    "    print(\"String does not have a value\")"
   ]
  },
  {
   "cell_type": "markdown",
   "metadata": {},
   "source": [
    "> **Note**: In Python, `not` and `!=` are very similar. For more on this [read about it here](https://realpython.com/python-is-identity-vs-equality/)"
   ]
  },
  {
   "cell_type": "code",
   "execution_count": 12,
   "metadata": {},
   "outputs": [
    {
     "data": {
      "text/plain": [
       "False"
      ]
     },
     "execution_count": 12,
     "metadata": {},
     "output_type": "execute_result"
    }
   ],
   "source": [
    "bool(string)"
   ]
  },
  {
   "cell_type": "markdown",
   "metadata": {},
   "source": [
    "#### Checking if a list has items"
   ]
  },
  {
   "cell_type": "code",
   "execution_count": 14,
   "metadata": {},
   "outputs": [
    {
     "name": "stdout",
     "output_type": "stream",
     "text": [
      "There are items in the lst 2\n"
     ]
    }
   ],
   "source": [
    "lst = ['Python', 'JavaScript']\n",
    "if lst:\n",
    "    print(\"There are items in the lst\", len(lst))\n",
    "if not lst:\n",
    "    print(\"There are not items in this list\")"
   ]
  },
  {
   "cell_type": "markdown",
   "metadata": {},
   "source": [
    "#### Checking if a tuple has items"
   ]
  },
  {
   "cell_type": "code",
   "execution_count": 16,
   "metadata": {},
   "outputs": [
    {
     "name": "stdout",
     "output_type": "stream",
     "text": [
      "There are not items in this tuple\n"
     ]
    }
   ],
   "source": [
    "tup = ()\n",
    "if tup:\n",
    "    print(\"There are items in the tuple\", len(tup))\n",
    "if not tup:\n",
    "    print(\"There are not items in this tuple\")"
   ]
  },
  {
   "cell_type": "markdown",
   "metadata": {},
   "source": [
    "#### Comparing None"
   ]
  },
  {
   "cell_type": "code",
   "execution_count": 17,
   "metadata": {},
   "outputs": [],
   "source": [
    "total_items = None "
   ]
  },
  {
   "cell_type": "code",
   "execution_count": 18,
   "metadata": {},
   "outputs": [
    {
     "name": "stdout",
     "output_type": "stream",
     "text": [
      "There are no items\n"
     ]
    }
   ],
   "source": [
    "if total_items:\n",
    "    print(\"There are items\")\n",
    "if not total_items:\n",
    "    print(\"There are no items\")"
   ]
  },
  {
   "cell_type": "code",
   "execution_count": 20,
   "metadata": {},
   "outputs": [
    {
     "name": "stdout",
     "output_type": "stream",
     "text": [
      "== none\n",
      "is none\n"
     ]
    }
   ],
   "source": [
    "if total_items == None:\n",
    "    print(\"== none\")\n",
    "if total_items is None:\n",
    "    print(\"is none\")"
   ]
  },
  {
   "cell_type": "markdown",
   "metadata": {},
   "source": [
    "> **Note**: In Python `is` and `==` seem to be the same on the surface. But they are not the same. They are often used in the same scenarios, but actually look for different things. "
   ]
  },
  {
   "cell_type": "markdown",
   "metadata": {},
   "source": [
    "### Example: Comparing Lists"
   ]
  },
  {
   "cell_type": "code",
   "execution_count": 21,
   "metadata": {},
   "outputs": [],
   "source": [
    "name1 = \"kalob\"\n",
    "name2 = \"kalob\""
   ]
  },
  {
   "cell_type": "code",
   "execution_count": 22,
   "metadata": {},
   "outputs": [
    {
     "data": {
      "text/plain": [
       "True"
      ]
     },
     "execution_count": 22,
     "metadata": {},
     "output_type": "execute_result"
    }
   ],
   "source": [
    "name1 is name2"
   ]
  },
  {
   "cell_type": "code",
   "execution_count": 26,
   "metadata": {},
   "outputs": [
    {
     "name": "stdout",
     "output_type": "stream",
     "text": [
      "HELLO IS IN BOTH LISTS\n"
     ]
    }
   ],
   "source": [
    "ls1 = ['hello']\n",
    "ls2 = ['hello']\n",
    "if ls1 == ls2:\n",
    "    print(\"HELLO IS IN BOTH LISTS\")"
   ]
  }
 ],
 "metadata": {
  "kernelspec": {
   "display_name": "Python 3",
   "language": "python",
   "name": "python3"
  },
  "language_info": {
   "codemirror_mode": {
    "name": "ipython",
    "version": 3
   },
   "file_extension": ".py",
   "mimetype": "text/x-python",
   "name": "python",
   "nbconvert_exporter": "python",
   "pygments_lexer": "ipython3",
   "version": "3.8.8"
  }
 },
 "nbformat": 4,
 "nbformat_minor": 4
}
