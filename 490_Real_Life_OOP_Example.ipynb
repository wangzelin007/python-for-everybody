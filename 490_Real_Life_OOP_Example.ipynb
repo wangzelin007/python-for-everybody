{
 "cells": [
  {
   "cell_type": "markdown",
   "metadata": {},
   "source": [
    "# Real Life OOP Example\n",
    "\n",
    "Let's take a look at a real life OOP example by creating an Animal() class. This is a simple example, but still great for showing off how OOP works. "
   ]
  },
  {
   "cell_type": "code",
   "execution_count": 1,
   "metadata": {},
   "outputs": [],
   "source": [
    "class Animal:\n",
    "    \n",
    "    def __init__(self, species, name, weight):\n",
    "        if weight.endswith(\"lbs\"):\n",
    "            # Convert to kg's\n",
    "            # self.weight = ''\n",
    "            pass\n",
    "        self.species = species \n",
    "        self.name = name\n",
    "        self.weight = weight \n",
    "        \n",
    "    def speak(self):\n",
    "        print(\"Grunt\")"
   ]
  },
  {
   "cell_type": "code",
   "execution_count": 2,
   "metadata": {},
   "outputs": [],
   "source": [
    "zephyr = Animal(\"Cat\", \"Zephyr\", \"14.5 lbs\")"
   ]
  },
  {
   "cell_type": "markdown",
   "metadata": {},
   "source": [
    "> **Note:** Instantiating (starting) a Class looks identical to a function. Even the arguments look the same. But the arguments are set as class attributes by using `self.name = name`. Now we can use `self.name` in any Class method! "
   ]
  },
  {
   "cell_type": "code",
   "execution_count": 3,
   "metadata": {},
   "outputs": [],
   "source": [
    "henry = Animal(\"Cat\", \"Henry\", \"9 lbs\")"
   ]
  },
  {
   "cell_type": "code",
   "execution_count": 4,
   "metadata": {},
   "outputs": [
    {
     "name": "stdout",
     "output_type": "stream",
     "text": [
      "Grunt\n"
     ]
    }
   ],
   "source": [
    "zephyr.speak() "
   ]
  },
  {
   "cell_type": "code",
   "execution_count": 5,
   "metadata": {},
   "outputs": [
    {
     "name": "stdout",
     "output_type": "stream",
     "text": [
      "Grunt\n"
     ]
    }
   ],
   "source": [
    "henry.speak() "
   ]
  },
  {
   "cell_type": "markdown",
   "metadata": {},
   "source": [
    "### Objects are better than dictionaries"
   ]
  },
  {
   "cell_type": "code",
   "execution_count": 6,
   "metadata": {},
   "outputs": [],
   "source": [
    "zephyr_name = \"Zephyr\"\n",
    "zephyr_species = \"Cat\"\n",
    "zephyr_weight = \"14.5 lbs\""
   ]
  },
  {
   "cell_type": "markdown",
   "metadata": {},
   "source": [
    "> **Note:** We started this course by using variables like this. Then we grouped them into dictionaries. And now we're grouping it into a class so we can add functionality to it."
   ]
  },
  {
   "cell_type": "code",
   "execution_count": 7,
   "metadata": {},
   "outputs": [],
   "source": [
    "zephyr = {\n",
    "    'name': 'Zephyr',\n",
    "    'species': 'Cat',\n",
    "    'weight': \"14.5 lbs\"\n",
    "}"
   ]
  },
  {
   "cell_type": "code",
   "execution_count": 8,
   "metadata": {},
   "outputs": [],
   "source": [
    "henry = {\n",
    "    'name': 'Henry',\n",
    "    'species': 'Cat',\n",
    "    'weight': \"9 lbs\"\n",
    "}"
   ]
  }
 ],
 "metadata": {
  "kernelspec": {
   "display_name": "Python 3",
   "language": "python",
   "name": "python3"
  },
  "language_info": {
   "codemirror_mode": {
    "name": "ipython",
    "version": 3
   },
   "file_extension": ".py",
   "mimetype": "text/x-python",
   "name": "python",
   "nbconvert_exporter": "python",
   "pygments_lexer": "ipython3",
   "version": "3.8.8"
  }
 },
 "nbformat": 4,
 "nbformat_minor": 4
}
