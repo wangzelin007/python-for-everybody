{
 "cells": [
  {
   "cell_type": "markdown",
   "metadata": {},
   "source": [
    "传入第二个参数, 获取最后一个元素之后, 下一次next返回该默认值, 而不会抛出 StopIteration:"
   ]
  },
  {
   "cell_type": "code",
   "execution_count": 4,
   "metadata": {},
   "outputs": [
    {
     "name": "stdout",
     "output_type": "stream",
     "text": [
      "dog 1\n",
      "dog 2\n",
      "dog 3\n",
      "dog 4\n",
      "dog 5\n",
      "StopIteration Error\n",
      "cat a\n"
     ]
    }
   ],
   "source": [
    "it = iter([1, 2, 3, 4, 5])\n",
    "while True:\n",
    "    try:\n",
    "        # 获得下一个值:\n",
    "        x = next(it)\n",
    "        print('dog', x)\n",
    "    except StopIteration:\n",
    "        print('StopIteration Error')\n",
    "        break # endless loop\n",
    "# it = iter([1, 2, 3, 4, 5]) # dog 1 dog 2 dog 3 dog 4 dog 5 cat a\n",
    "while True:\n",
    "    x = next(it, 'a')\n",
    "    print('cat', x)\n",
    "    if x == 'a': \n",
    "        break # endless loop"
   ]
  },
  {
   "cell_type": "code",
   "execution_count": 9,
   "metadata": {},
   "outputs": [
    {
     "name": "stdout",
     "output_type": "stream",
     "text": [
      "2\n",
      "4\n",
      "None\n"
     ]
    }
   ],
   "source": [
    "it = iter([1, 2, 3, 4, 5])\n",
    "while True:\n",
    "    # x = next(i for i in it if 1 % 2 == 0, None) # Error: Generator expression must be parenthesized\n",
    "    x = next((i for i in it if i % 2 == 0), None) \n",
    "    print(x)\n",
    "    if x is None:\n",
    "        break"
   ]
  }
 ],
 "metadata": {
  "interpreter": {
   "hash": "28085907f29ae3142956a4d47369c9afe95d3b5f934ac85b88d8ae9d3dfcb38e"
  },
  "kernelspec": {
   "display_name": "Python 3.9.7 64-bit ('notebook-env': conda)",
   "language": "python",
   "name": "python3"
  },
  "language_info": {
   "codemirror_mode": {
    "name": "ipython",
    "version": 3
   },
   "file_extension": ".py",
   "mimetype": "text/x-python",
   "name": "python",
   "nbconvert_exporter": "python",
   "pygments_lexer": "ipython3",
   "version": "3.9.7"
  },
  "orig_nbformat": 4
 },
 "nbformat": 4,
 "nbformat_minor": 2
}
