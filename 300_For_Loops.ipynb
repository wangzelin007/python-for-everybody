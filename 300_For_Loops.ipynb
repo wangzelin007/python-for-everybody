{
 "cells": [
  {
   "cell_type": "markdown",
   "metadata": {},
   "source": [
    "# For Loops\n",
    "\n",
    "`for` loops will loop through an iterable until its reached the end, and stop on its own."
   ]
  },
  {
   "cell_type": "code",
   "execution_count": 1,
   "metadata": {},
   "outputs": [],
   "source": [
    "pets = [\"Cat\", \"Dog\", \"Bird\", \"Goat\"]"
   ]
  },
  {
   "cell_type": "code",
   "execution_count": 2,
   "metadata": {},
   "outputs": [
    {
     "data": {
      "text/plain": [
       "['Cat', 'Dog', 'Bird', 'Goat']"
      ]
     },
     "execution_count": 2,
     "metadata": {},
     "output_type": "execute_result"
    }
   ],
   "source": [
    "pets"
   ]
  },
  {
   "cell_type": "markdown",
   "metadata": {},
   "source": [
    "For example, the loop below is going to iterate through \"Cat\" and \"Dog\" and \"Bird\" and \"Goat\", in that order. It reassigns the variable `animal` to `Cat`, `Dog`, `Bird` and `Goat` on every loop cycle so you can use the same variable in an action."
   ]
  },
  {
   "cell_type": "code",
   "execution_count": 3,
   "metadata": {},
   "outputs": [
    {
     "name": "stdout",
     "output_type": "stream",
     "text": [
      "Cat\n",
      "Dog\n",
      "Bird\n",
      "Goat\n"
     ]
    }
   ],
   "source": [
    "for animal in pets:\n",
    "    print(animal)"
   ]
  },
  {
   "cell_type": "markdown",
   "metadata": {},
   "source": [
    "> **Note:** The above for loop printed the animals in order because `list`'s maintain their ordering. If we looped over a `set` the values could be randomized. "
   ]
  },
  {
   "cell_type": "markdown",
   "metadata": {},
   "source": [
    "#### Replacing letters with numbers in a for loop"
   ]
  },
  {
   "cell_type": "code",
   "execution_count": 4,
   "metadata": {},
   "outputs": [
    {
     "name": "stdout",
     "output_type": "stream",
     "text": [
      "The animal with funky letters is C4t\n",
      "The animal with funky letters is D0g\n",
      "The animal with funky letters is B!rd\n",
      "The animal with funky letters is G04t\n"
     ]
    }
   ],
   "source": [
    "for animal in pets:\n",
    "    animal = animal.replace(\"a\", \"4\").replace(\"o\", \"0\").replace(\"i\", \"!\")\n",
    "    print(f\"The animal with funky letters is {animal}\")"
   ]
  },
  {
   "cell_type": "code",
   "execution_count": 1,
   "metadata": {},
   "outputs": [
    {
     "name": "stdout",
     "output_type": "stream",
     "text": [
      "{'Bird', 'Dog', 'Cat', 'Goat'}\n"
     ]
    }
   ],
   "source": [
    "pets = {'Cat', 'Dog', 'Bird', 'Goat', 'Goat'}\n",
    "print(pets)"
   ]
  },
  {
   "cell_type": "code",
   "execution_count": 2,
   "metadata": {},
   "outputs": [
    {
     "name": "stdout",
     "output_type": "stream",
     "text": [
      "Bird is the animal\n",
      "Dog is the animal\n",
      "Cat is the animal\n",
      "Goat is the animal\n"
     ]
    }
   ],
   "source": [
    "for set_animal in pets:\n",
    "    print(set_animal, \"is the animal\")"
   ]
  },
  {
   "cell_type": "markdown",
   "metadata": {},
   "source": [
    "> **Note**: This was a `set` we looped over. And it did not maintain it's original ordering. "
   ]
  },
  {
   "cell_type": "markdown",
   "metadata": {},
   "source": [
    "#### Looping over a string"
   ]
  },
  {
   "cell_type": "code",
   "execution_count": 9,
   "metadata": {},
   "outputs": [
    {
     "name": "stdout",
     "output_type": "stream",
     "text": [
      "P\n",
      "y\n",
      "t\n",
      "h\n",
      "o\n",
      "n\n",
      "i\n",
      "s\n",
      "t\n",
      "h\n",
      "e\n",
      "b\n",
      "e\n",
      "s\n",
      "t\n"
     ]
    }
   ],
   "source": [
    "word = \"Pythonisthebest\"\n",
    "for letter in word:\n",
    "    print(letter)"
   ]
  },
  {
   "cell_type": "markdown",
   "metadata": {},
   "source": [
    "#### Looping over a paired tuple with two variables in the for loop"
   ]
  },
  {
   "cell_type": "code",
   "execution_count": 19,
   "metadata": {},
   "outputs": [],
   "source": [
    "people = (\n",
    "    (30, 'Kalob'),\n",
    "    (5, 'Zephyr'),\n",
    "    (3, 'Henry')\n",
    ")"
   ]
  },
  {
   "cell_type": "code",
   "execution_count": 20,
   "metadata": {},
   "outputs": [
    {
     "data": {
      "text/plain": [
       "((30, 'Kalob'), (5, 'Zephyr'), (3, 'Henry'))"
      ]
     },
     "execution_count": 20,
     "metadata": {},
     "output_type": "execute_result"
    }
   ],
   "source": [
    "people"
   ]
  },
  {
   "cell_type": "code",
   "execution_count": 21,
   "metadata": {},
   "outputs": [
    {
     "name": "stdout",
     "output_type": "stream",
     "text": [
      "Kalob is 30 years old\n",
      "Zephyr is 5 years old\n",
      "Henry is 3 years old\n"
     ]
    }
   ],
   "source": [
    "for age, name in people:\n",
    "    print(f\"{name} is {age} years old\")"
   ]
  }
 ],
 "metadata": {
  "kernelspec": {
   "display_name": "Python 3",
   "language": "python",
   "name": "python3"
  },
  "language_info": {
   "codemirror_mode": {
    "name": "ipython",
    "version": 3
   },
   "file_extension": ".py",
   "mimetype": "text/x-python",
   "name": "python",
   "nbconvert_exporter": "python",
   "pygments_lexer": "ipython3",
   "version": "3.8.8"
  }
 },
 "nbformat": 4,
 "nbformat_minor": 4
}
