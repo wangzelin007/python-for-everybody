{
 "cells": [
  {
   "cell_type": "markdown",
   "metadata": {},
   "source": [
    "# Python Data Types\n",
    "\n",
    "Python comes with lots of different data types. This notebook will explore the most common ones you'll use every day as a Python developer."
   ]
  },
  {
   "cell_type": "markdown",
   "metadata": {},
   "source": [
    "## Numerics "
   ]
  },
  {
   "cell_type": "markdown",
   "metadata": {},
   "source": [
    "Numerics are numbers (with or without decimal points). They can also be complex numbers."
   ]
  },
  {
   "cell_type": "code",
   "execution_count": 16,
   "metadata": {},
   "outputs": [],
   "source": [
    "# Ints (integers) are full numbers\n",
    "age =  30\n",
    "cats = 2 \n",
    "# Floats are numbers with decimals \n",
    "pi = 3.14 "
   ]
  },
  {
   "cell_type": "markdown",
   "metadata": {},
   "source": [
    "## Booleans "
   ]
  },
  {
   "cell_type": "markdown",
   "metadata": {},
   "source": [
    "Booleans are True or False. Can't be anything else. It's a binary option, like a 1 or a 0."
   ]
  },
  {
   "cell_type": "code",
   "execution_count": 17,
   "metadata": {},
   "outputs": [],
   "source": [
    "reading_this_notebook = True \n",
    "floating_in_spaces = False"
   ]
  },
  {
   "cell_type": "markdown",
   "metadata": {},
   "source": [
    "## Sequences"
   ]
  },
  {
   "cell_type": "markdown",
   "metadata": {},
   "source": [
    "Sequences are data types that can be iterated over, like a grocery list. Python has quite a few different types, but these are the 4 main ones: `list`, `tuple`, `set` and `str` (string)"
   ]
  },
  {
   "cell_type": "code",
   "execution_count": 9,
   "metadata": {},
   "outputs": [],
   "source": [
    "List = ['Milk', 'Bread', 'Eggs', 'Eggs', True, False, {}, (), ['a', 'b', 'c']]\n",
    "Tuples = ('Milk', 'Bread', 'Eggs',)\n",
    "Sets = {'Milk', 'Bread', 'Eggs'}\n",
    "String = \"Python for Everybody True\""
   ]
  },
  {
   "cell_type": "markdown",
   "metadata": {},
   "source": [
    "## Dictionaries"
   ]
  },
  {
   "cell_type": "markdown",
   "metadata": {},
   "source": [
    "Dictionaries are like variables within variables that can have a named reference. For example `person['name']` -> `'Kalob'`"
   ]
  },
  {
   "cell_type": "code",
   "execution_count": 18,
   "metadata": {},
   "outputs": [],
   "source": [
    "Dict = {\n",
    "    'Milk': 'Goats Milk',\n",
    "    'Eggs': 'Free Range Eggs',\n",
    "}"
   ]
  },
  {
   "cell_type": "code",
   "execution_count": 19,
   "metadata": {},
   "outputs": [],
   "source": [
    "person = {\n",
    "    'name': 'Kalob',\n",
    "    'cats': 2,\n",
    "    'family_members': ['Mother', 'Father', 'Brother', 'Sister']\n",
    "}"
   ]
  }
 ],
 "metadata": {
  "kernelspec": {
   "display_name": "Python 3",
   "language": "python",
   "name": "python3"
  },
  "language_info": {
   "codemirror_mode": {
    "name": "ipython",
    "version": 3
   },
   "file_extension": ".py",
   "mimetype": "text/x-python",
   "name": "python",
   "nbconvert_exporter": "python",
   "pygments_lexer": "ipython3",
   "version": "3.8.8"
  }
 },
 "nbformat": 4,
 "nbformat_minor": 4
}
