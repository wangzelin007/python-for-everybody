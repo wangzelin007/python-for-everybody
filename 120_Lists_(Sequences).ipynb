{
 "cells": [
  {
   "cell_type": "markdown",
   "metadata": {},
   "source": [
    "# Lists (Sequences)\n",
    "\n",
    "Lists are a way to store lots of data in a single variable. You can group data together this way. Later on, you can loop through lists very easily and perform an action based on each value in the list. "
   ]
  },
  {
   "cell_type": "code",
   "execution_count": 13,
   "metadata": {},
   "outputs": [],
   "source": [
    "groceries = ['Milk', 'Eggs', 'Bread', 'Bread', 'Milk', 42, True]"
   ]
  },
  {
   "cell_type": "code",
   "execution_count": 14,
   "metadata": {},
   "outputs": [
    {
     "data": {
      "text/plain": [
       "['Milk', 'Eggs', 'Bread', 'Bread', 'Milk', 42, True]"
      ]
     },
     "execution_count": 14,
     "metadata": {},
     "output_type": "execute_result"
    }
   ],
   "source": [
    "groceries"
   ]
  },
  {
   "cell_type": "code",
   "execution_count": 15,
   "metadata": {},
   "outputs": [
    {
     "name": "stdout",
     "output_type": "stream",
     "text": [
      "Milk\n",
      "Eggs\n",
      "Bread\n",
      "Bread\n",
      "Milk\n",
      "42\n",
      "True\n"
     ]
    }
   ],
   "source": [
    "for item in groceries:\n",
    "    print(item)"
   ]
  },
  {
   "cell_type": "markdown",
   "metadata": {},
   "source": [
    "👆Above is an example of a \"for loop\". It will reassign every item in the `groceries` list to the variable called `item` and will `print()` every item until the list of groceries is done."
   ]
  }
 ],
 "metadata": {
  "kernelspec": {
   "display_name": "Python 3",
   "language": "python",
   "name": "python3"
  },
  "language_info": {
   "codemirror_mode": {
    "name": "ipython",
    "version": 3
   },
   "file_extension": ".py",
   "mimetype": "text/x-python",
   "name": "python",
   "nbconvert_exporter": "python",
   "pygments_lexer": "ipython3",
   "version": "3.8.8"
  }
 },
 "nbformat": 4,
 "nbformat_minor": 4
}
